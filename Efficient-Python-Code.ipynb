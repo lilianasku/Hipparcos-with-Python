{
 "cells": [
  {
   "cell_type": "markdown",
   "id": "fundamental-drink",
   "metadata": {},
   "source": [
    "# Writing efficient Python code "
   ]
  },
  {
   "cell_type": "markdown",
   "id": "agricultural-latex",
   "metadata": {},
   "source": [
    "In this project, we will explore how to write a Python program that is readable while at the same time efficient with the fast runtime and the minimal memory usage. \n",
    "\n",
    "A part of the main Hipparcos catalog was extracted into the Hp_Sp.csv file.  \n",
    "Hip_Sp.csv contains four columns: \n",
    "<ul>\n",
    "      <li> Hip_No -- unique Hipparcos number </li>\n",
    "      <li> Vmag -- visual magnitude as a measure of stellar apparent brightness </li> \n",
    "      <li> Mv -- absolute stellar magnitude, is a measure of the real steller brightnes and it is calculated from the Hipparcos aparent visual magnitude (Vmag) and the Hipparcos measured parallax (Plx). </li>\n",
    "      <li> Spectral_type -- is a measure of stellar temperature or color. </li>\n",
    "</ul>"
   ]
  },
  {
   "cell_type": "markdown",
   "id": "offshore-protein",
   "metadata": {},
   "source": [
    "### Importing data "
   ]
  },
  {
   "cell_type": "code",
   "execution_count": 11,
   "id": "removed-banks",
   "metadata": {},
   "outputs": [
    {
     "name": "stdout",
     "output_type": "stream",
     "text": [
      "Wall time: 79.6 ms\n"
     ]
    },
    {
     "data": {
      "text/html": [
       "<div>\n",
       "<style scoped>\n",
       "    .dataframe tbody tr th:only-of-type {\n",
       "        vertical-align: middle;\n",
       "    }\n",
       "\n",
       "    .dataframe tbody tr th {\n",
       "        vertical-align: top;\n",
       "    }\n",
       "\n",
       "    .dataframe thead th {\n",
       "        text-align: right;\n",
       "    }\n",
       "</style>\n",
       "<table border=\"1\" class=\"dataframe\">\n",
       "  <thead>\n",
       "    <tr style=\"text-align: right;\">\n",
       "      <th></th>\n",
       "      <th>Hip_No</th>\n",
       "      <th>Vmag</th>\n",
       "      <th>Mv</th>\n",
       "      <th>Spectral_type</th>\n",
       "    </tr>\n",
       "  </thead>\n",
       "  <tbody>\n",
       "    <tr>\n",
       "      <th>113754</th>\n",
       "      <td>118318</td>\n",
       "      <td>6.99</td>\n",
       "      <td>-1.593494</td>\n",
       "      <td>K2</td>\n",
       "    </tr>\n",
       "    <tr>\n",
       "      <th>113755</th>\n",
       "      <td>118319</td>\n",
       "      <td>8.23</td>\n",
       "      <td>3.362666</td>\n",
       "      <td>G2V</td>\n",
       "    </tr>\n",
       "    <tr>\n",
       "      <th>113756</th>\n",
       "      <td>118320</td>\n",
       "      <td>7.59</td>\n",
       "      <td>1.084850</td>\n",
       "      <td>K0</td>\n",
       "    </tr>\n",
       "    <tr>\n",
       "      <th>113757</th>\n",
       "      <td>118321</td>\n",
       "      <td>9.20</td>\n",
       "      <td>5.618767</td>\n",
       "      <td>G5V</td>\n",
       "    </tr>\n",
       "    <tr>\n",
       "      <th>113758</th>\n",
       "      <td>118322</td>\n",
       "      <td>4.49</td>\n",
       "      <td>-0.809909</td>\n",
       "      <td>B9IV</td>\n",
       "    </tr>\n",
       "  </tbody>\n",
       "</table>\n",
       "</div>"
      ],
      "text/plain": [
       "        Hip_No  Vmag        Mv Spectral_type\n",
       "113754  118318  6.99 -1.593494  K2          \n",
       "113755  118319  8.23  3.362666  G2V         \n",
       "113756  118320  7.59  1.084850  K0          \n",
       "113757  118321  9.20  5.618767  G5V         \n",
       "113758  118322  4.49 -0.809909  B9IV        "
      ]
     },
     "execution_count": 11,
     "metadata": {},
     "output_type": "execute_result"
    }
   ],
   "source": [
    "%%time\n",
    "import numpy as np\n",
    "import pandas as pd\n",
    "\n",
    "file = '../data/Hip_Sp.csv'\n",
    "new_column_names = ['Hip_No', 'Vmag', 'Mv', 'Spectral_type']\n",
    "hip_sp = pd.read_csv(file, header = 0, sep=',',\n",
    "                  usecols=[1,2,3,4],\n",
    "                  names=new_column_names)\n",
    "hip_sp.tail(5)"
   ]
  },
  {
   "cell_type": "markdown",
   "id": "based-korean",
   "metadata": {},
   "source": [
    "###  Pythonic .vs. non-pythonic code\n",
    "\n",
    "How many stars from our Hp_Sp.csv file are more luminous than the Sun, knowing that the absolute magnitude of the Sun is 4.83? To answer this question,  we need to count the number of stars from the Mv column of the hip_sp data frame. All-stars from the catalog with the absolute magnitudes, Mv, less than 4.83, are more luminous than our Sun.  "
   ]
  },
  {
   "cell_type": "code",
   "execution_count": 2,
   "id": "published-cherry",
   "metadata": {},
   "outputs": [
    {
     "name": "stdout",
     "output_type": "stream",
     "text": [
      "104597\n",
      "Wall time: 565 ms\n"
     ]
    }
   ],
   "source": [
    "%%time\n",
    "\n",
    "#Non-Pythonic Way\n",
    "\n",
    "star_list = []\n",
    "for i in range(0,len(hip_sp['Mv'])):\n",
    "    mag = hip_sp['Mv'][i]\n",
    "    if mag < 4.83:\n",
    "       star_list.append(mag)\n",
    "\n",
    "print(len(star_list))"
   ]
  },
  {
   "cell_type": "code",
   "execution_count": 3,
   "id": "sexual-program",
   "metadata": {},
   "outputs": [
    {
     "name": "stdout",
     "output_type": "stream",
     "text": [
      "104597\n",
      "Wall time: 20.6 ms\n"
     ]
    }
   ],
   "source": [
    "%%time\n",
    "\n",
    "#Pythonic Way\n",
    "\n",
    "star_list = [mag for mag in hip_sp['Mv'] if mag < 4.83]\n",
    "\n",
    "print(len(star_list))"
   ]
  },
  {
   "cell_type": "markdown",
   "id": "corrected-comment",
   "metadata": {},
   "source": [
    "###  List of Hipparacos numbers for different stars \n",
    "\n",
    "Let's create a list of Hip Ids and an indexed list of absolute magnitudes using Python's built-in functions."
   ]
  },
  {
   "cell_type": "code",
   "execution_count": 52,
   "id": "alleged-travel",
   "metadata": {},
   "outputs": [
    {
     "name": "stdout",
     "output_type": "stream",
     "text": [
      "118321\n",
      "Wall time: 15 ms\n"
     ]
    }
   ],
   "source": [
    "%%time\n",
    "hip_id_list = list(hip_sp['Hip_No'])\n",
    "\n",
    "hip_id_list1 = [* range(1, hip_id_list[-1])]\n",
    "print(len(hip_id_list1))"
   ]
  },
  {
   "cell_type": "code",
   "execution_count": 53,
   "id": "searching-provision",
   "metadata": {},
   "outputs": [
    {
     "name": "stdout",
     "output_type": "stream",
     "text": [
      "(1, 1.8450163101289387)\n",
      "Wall time: 27 ms\n"
     ]
    }
   ],
   "source": [
    "%%time\n",
    "mag_list = list(hip_sp['Mv'])\n",
    "\n",
    "indexed_list = [* enumerate(mag_list, 1)]\n",
    "print(indexed_list[0])"
   ]
  }
 ],
 "metadata": {
  "kernelspec": {
   "display_name": "Python 3",
   "language": "python",
   "name": "python3"
  },
  "language_info": {
   "codemirror_mode": {
    "name": "ipython",
    "version": 3
   },
   "file_extension": ".py",
   "mimetype": "text/x-python",
   "name": "python",
   "nbconvert_exporter": "python",
   "pygments_lexer": "ipython3",
   "version": "3.7.4"
  }
 },
 "nbformat": 4,
 "nbformat_minor": 5
}
