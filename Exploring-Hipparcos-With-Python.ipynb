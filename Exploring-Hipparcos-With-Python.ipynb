{
 "cells": [
  {
   "cell_type": "markdown",
   "metadata": {},
   "source": [
    "# Exploring Hipparcos catalog using Python and Pandas\n"
   ]
  },
  {
   "cell_type": "markdown",
   "metadata": {},
   "source": [
    "This notebook demonstrates how Python and Pandas can be used to explore and analyse data presented in the form of a catalog. \n",
    "\n",
    "The major Hipparcos catalog is a result of a three and half year long Hipparcos satellite mission, and it was released in 1997. Although the main catalog, with over 110 000 stars is small, compared to the final database of 2 million objects, it is still one of the first modern sources of the high-precision measurements of the stellar positions on the sky. It provides stellar space coordinates with high accuracy to the thousandths decimal place.\n",
    "\n",
    "In this notebook, we will explore some of the basic features of the main Hipparcos catalog. All data files and the documentation explaining table columns, (Readme.txt), can be imported from https://www.cosmos.esa.int/web/hipparcos/catalogues. We have combined data for the entire sky in one file, named hip_main.dat. \n",
    "\n",
    "The hip_main.dat contains 118218 rows and 77 columns. We will select 9 columns from the file and import them in a data frame. The selected columns are:\n",
    "            Hip_No -- unique Hipparcos number \n",
    "            Alpha & Delta -- right ascension and declination represent the stellar coordinates \n",
    "            Vmag -- visual magnitude as a measure of the apparent stellar brightness\n",
    "            B-V and V-I -- color indexes indicate star's color\n",
    "            Var_period and Var_type -- represent parameters for the variable stars, a period in days                                     and the type of variability         \n",
    "            Spectral_type -- a spectral type of an object represent stellar temperature and color.  "
   ]
  },
  {
   "cell_type": "markdown",
   "metadata": {},
   "source": [
    "1. Importing Python libraries"
   ]
  },
  {
   "cell_type": "code",
   "execution_count": 11,
   "metadata": {},
   "outputs": [],
   "source": [
    "import numpy as np\n",
    "import pandas as pd"
   ]
  },
  {
   "cell_type": "markdown",
   "metadata": {},
   "source": [
    "2. Reading input data file\n",
    "\n",
    "To read the main Hipparcos catalog file hip_main.dat, we will use the panda's function read_csv and specify what columns to read and the column names as a python list.  "
   ]
  },
  {
   "cell_type": "code",
   "execution_count": 12,
   "metadata": {
    "scrolled": true
   },
   "outputs": [
    {
     "name": "stdout",
     "output_type": "stream",
     "text": [
      "   Hip_No        Alpha        Delta  Vmag     B-V   V-I Var_period Var_type  \\\n",
      "0       1  00 00 00.22  +01 05 20.4   9.1   0.482  0.55                       \n",
      "1       2  00 00 00.91  -19 29 55.8  9.27   0.999  1.04                   C   \n",
      "2       3  00 00 01.20  +38 51 33.4  6.61  -0.019  0.00                   C   \n",
      "3       4  00 00 02.01  -51 53 36.8  8.06   0.370  0.43                       \n",
      "4       5  00 00 02.39  -40 35 28.4  8.55   0.902  0.90                       \n",
      "\n",
      "  Spectral_type  \n",
      "0  F5            \n",
      "1  K3V           \n",
      "2  B9            \n",
      "3  F0V           \n",
      "4  G8III         \n"
     ]
    }
   ],
   "source": [
    "#file path and the file name\n",
    "file ='/Users/Ljiljana/Documents/Projects/HipparcosProject/hip_main.dat'\n",
    "\n",
    "#list of the column names\n",
    "new_column_names=['Hip_No', 'Alpha', 'Delta', 'Vmag', 'B-V', 'V-I', 'Var_period', 'Var_type', 'Spectral_type']\n",
    "Hip= pd.read_csv(file, header=None, sep='|',\n",
    "                usecols=[1,3,4,5,37,40,51,52,76],\n",
    "                names=new_column_names)\n",
    "\n",
    "#printing the first lines of the hip_main.dat\n",
    "print(Hip.head(5))"
   ]
  },
  {
   "cell_type": "markdown",
   "metadata": {},
   "source": [
    "3. Changing data types\n",
    "\n",
    "To perform numerical manipulations with the data frame, we will change the data type for the numerical columns using pd.to_numeric(). By default, the columns are of the object (string) type. The info shows that the Hip data frame has 118218 rows and 9 columns. We can also notice that some columns have missing values."
   ]
  },
  {
   "cell_type": "code",
   "execution_count": 13,
   "metadata": {},
   "outputs": [
    {
     "name": "stdout",
     "output_type": "stream",
     "text": [
      "<class 'pandas.core.frame.DataFrame'>\n",
      "RangeIndex: 118218 entries, 0 to 118217\n",
      "Data columns (total 9 columns):\n",
      "Hip_No           118218 non-null int64\n",
      "Alpha            118218 non-null object\n",
      "Delta            118218 non-null object\n",
      "Vmag             118217 non-null float64\n",
      "B-V              116937 non-null float64\n",
      "V-I              116943 non-null float64\n",
      "Var_period       2541 non-null float64\n",
      "Var_type         118218 non-null object\n",
      "Spectral_type    118218 non-null object\n",
      "dtypes: float64(4), int64(1), object(4)\n",
      "memory usage: 8.1+ MB\n",
      "None\n"
     ]
    }
   ],
   "source": [
    "#changing data types, with errors='coerce' invalid parsing is set to NaN\n",
    "Hip['Vmag'] = pd.to_numeric(Hip['Vmag'],  errors='coerce')\n",
    "Hip['B-V'] = pd.to_numeric(Hip['B-V'],  errors='coerce')\n",
    "Hip['V-I'] = pd.to_numeric(Hip['V-I'],  errors='coerce')\n",
    "Hip['Var_period'] = pd.to_numeric(Hip['Var_period'],  errors='coerce')\n",
    "\n",
    "#printing data frame infos\n",
    "print(Hip.info(verbose=True))"
   ]
  },
  {
   "cell_type": "markdown",
   "metadata": {},
   "source": [
    "4. Finding the brightest and the faintest star in the catalog\n",
    "\n",
    "The brightest star in the sky is Sirius (Vmag=-1.4). After examining data frame, we can notice that Hipparcos observed and collected some data on Sirius!"
   ]
  },
  {
   "cell_type": "code",
   "execution_count": 14,
   "metadata": {},
   "outputs": [
    {
     "name": "stdout",
     "output_type": "stream",
     "text": [
      "       Hip_No        Alpha        Delta  Vmag    B-V   V-I  Var_period  \\\n",
      "32324   32349  06 45 09.25  -16 42 47.3 -1.44  0.009 -0.02         NaN   \n",
      "\n",
      "      Var_type Spectral_type  \n",
      "32324        U  A0m...        \n",
      "       Hip_No        Alpha        Delta   Vmag  B-V  V-I  Var_period Var_type  \\\n",
      "70015   70079  14 20 28.21  -44 31 56.3  14.08  NaN  NaN         NaN            \n",
      "\n",
      "      Spectral_type  \n",
      "70015                \n"
     ]
    }
   ],
   "source": [
    "#Sorting 'Vmag' column in descending and ascending orders\n",
    "print(Hip.sort_values(by='Vmag')[0:1])   #brightest star\n",
    "print(Hip.sort_values(by='Vmag', ascending=False)[0:1])  #faintest star"
   ]
  },
  {
   "cell_type": "markdown",
   "metadata": {},
   "source": [
    "5. Calculating the number of variable stars in the catalog\n",
    "\n",
    "After exploring the Hip_main.dat file and Readme.txt, we can see  that most stars do not have values in the variability type and period fields. Some stars are marked with the letter 'P' indicating that they are periodic variables (changing their brightness in regular intervals) or letters 'M' and 'U' pointing to the other types of variability. \n",
    "\n",
    "To explore variable stars,  we will group and filter the Var_type and Var_period columns. "
   ]
  },
  {
   "cell_type": "code",
   "execution_count": 15,
   "metadata": {},
   "outputs": [
    {
     "name": "stdout",
     "output_type": "stream",
     "text": [
      "Var_type\n",
      "     46596\n",
      "C    46552\n",
      "D    12361\n",
      "M     1045\n",
      "P     2708\n",
      "R     1172\n",
      "U     7784\n",
      "Name: Hip_No, dtype: int64\n",
      "Number of variable stars: 11537 ... 9.8 %\n"
     ]
    }
   ],
   "source": [
    "#grouping variable stars according to their type\n",
    "var_groups=Hip.groupby('Var_type')['Hip_No'].count()\n",
    "print(var_groups)\n",
    "\n",
    "#total number of stars in the catalog\n",
    "star_number=Hip['Hip_No'].value_counts(dropna=False).sum()\n",
    "\n",
    "#counting the number of periodic & other types of variables\n",
    "var=Hip[(Hip['Var_type'] =='P') | (Hip['Var_type'] == 'U') | (Hip['Var_type'] == 'M') ].count()\n",
    "\n",
    "#counting ratio\n",
    "ratio=round(var.Hip_No/star_number*100, 1)\n",
    "\n",
    "print('Number of variable stars:',var[0], '...',ratio, '%')"
   ]
  },
  {
   "cell_type": "markdown",
   "metadata": {},
   "source": [
    "6. Finding the number of bluish stars in the catalog\n",
    "\n",
    "Stars with the negative colour index B-V are hot, blue stars."
   ]
  },
  {
   "cell_type": "code",
   "execution_count": 7,
   "metadata": {},
   "outputs": [
    {
     "name": "stdout",
     "output_type": "stream",
     "text": [
      "Number of blue stars: 6894 ... 5.8 %\n"
     ]
    }
   ],
   "source": [
    "#Filtering 'B-V' column\n",
    "blue_number=(Hip[(Hip['B-V'] <0) &(Hip['B-V'] > -0.5)]).count()\n",
    "star_number=Hip['B-V'].value_counts(dropna=False).sum()\n",
    "ratio = round(blue_number.Hip_No/star_number*100, 1)\n",
    "\n",
    "print('Number of blue stars:', blue_number.Hip_No, '...',ratio, '%')"
   ]
  },
  {
   "cell_type": "markdown",
   "metadata": {},
   "source": [
    "7. A function for sorting stars by Delta angle \n"
   ]
  },
  {
   "cell_type": "code",
   "execution_count": 16,
   "metadata": {},
   "outputs": [],
   "source": [
    "#input parameters: NumPy array of Delta values  & number of stars\n",
    "def sort_stars(Dec_arr, No_stars):\n",
    "    north_stars=0\n",
    "    south_stars=0\n",
    "    for i in range(0,No_stars):\n",
    "       ar_list=Dec_arr[i].split(' ')\n",
    "       new_ar=[float(i) for i in ar_list]\n",
    "       dec_deg= round((new_ar[2]/60+new_ar[1])/60+new_ar[0], 2)\n",
    "       if dec_deg >= 0:\n",
    "          north_stars=north_stars+1\n",
    "       else:\n",
    "          south_stars=south_stars+1\n",
    "    return (north_stars, south_stars)"
   ]
  },
  {
   "cell_type": "markdown",
   "metadata": {},
   "source": [
    "8. Calculating the number of the northern and southern stars in the catalog\n",
    "\n",
    "Some stars can be observed from the northern or the southern hemisphere. To find this, we grouped stars into two groups according to their Delta coordinates (expressed in angular units). Northern stars have Delta between 0 and +90 degrees, while southern stars have Delta between 0 and -90 degrees. "
   ]
  },
  {
   "cell_type": "code",
   "execution_count": 17,
   "metadata": {},
   "outputs": [
    {
     "name": "stdout",
     "output_type": "stream",
     "text": [
      "0    +01 05 20.4\n",
      "1    -19 29 55.8\n",
      "2    +38 51 33.4\n",
      "3    -51 53 36.8\n",
      "4    -40 35 28.4\n",
      "Name: Delta, dtype: object\n"
     ]
    }
   ],
   "source": [
    "#creating a NumPy array of 'Delta' objects\n",
    "delta_arr=Hip.Delta \n",
    "print(delta_arr.head(5))\n",
    "\n",
    "#counting the total number of stars\n",
    "total_stars=delta_arr.count()   \n",
    "\n",
    "north_stars,south_stars=sort_stars(delta_arr,total_stars)"
   ]
  },
  {
   "cell_type": "markdown",
   "metadata": {},
   "source": [
    "9. Printing the results\n",
    "\n",
    "These are some of the interesting features of the Hipparcos catalog..."
   ]
  },
  {
   "cell_type": "code",
   "execution_count": 122,
   "metadata": {},
   "outputs": [
    {
     "name": "stdout",
     "output_type": "stream",
     "text": [
      "Total number of stars in the Hipparcos catalog: 118218\n",
      "Number of the northern stars: 58251 ... 49.27 %\n",
      "Number of the southern stars: 59967 ... 50.73 %\n"
     ]
    }
   ],
   "source": [
    "print(\"Total number of stars in the Hipparcos catalog:\", total_stars)\n",
    "print(\"Number of the northern stars:\", north_stars,'...',round(north_stars/total_stars*100, 2), '%')\n",
    "print(\"Number of the southern stars:\", south_stars, '...',round(south_stars/total_stars*100, 2),'%')\n"
   ]
  },
  {
   "cell_type": "code",
   "execution_count": null,
   "metadata": {},
   "outputs": [],
   "source": []
  }
 ],
 "metadata": {
  "kernelspec": {
   "display_name": "Python 3",
   "language": "python",
   "name": "python3"
  },
  "language_info": {
   "codemirror_mode": {
    "name": "ipython",
    "version": 3
   },
   "file_extension": ".py",
   "mimetype": "text/x-python",
   "name": "python",
   "nbconvert_exporter": "python",
   "pygments_lexer": "ipython3",
   "version": "3.7.4"
  }
 },
 "nbformat": 4,
 "nbformat_minor": 2
}
