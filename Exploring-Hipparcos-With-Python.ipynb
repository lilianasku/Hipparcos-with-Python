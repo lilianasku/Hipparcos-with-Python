{
 "cells": [
  {
   "cell_type": "markdown",
   "metadata": {},
   "source": [
    "# Exploring Hipparcos catalog using Python and Pandas\n"
   ]
  },
  {
   "cell_type": "markdown",
   "metadata": {},
   "source": [
    "In this notebook, we will explore some of the basic features of the main Hipparcos catalog such as: the number of stars observed, range of stellar magnitudes, type of stars, number of variable stars etc.. \n",
    "\n",
    "All data files and the documentation explaining table columns, (Readme.txt), can be imported from <a  href=\"https://www.cosmos.esa.int/web/hipparcos/catalogues\"> Esa website </a>. We have combined data for the entire sky in one file, named hip_main.dat.\n",
    "\n",
    "The <b>hip_main.dat</b> contains 118218 rows and 78 columns. We will select 9 columns from the file and import them into a data frame. The selected columns are: \n",
    "<ul>\n",
    "      <li> Hip_No -- unique Hipparcos number </li>\n",
    "      <li> Alpha & Delta -- right ascension and declination represent the stellar coordinates </li>\n",
    "      <li> Vmag -- visual magnitude as a measure of the apparent stellar brightness </li> \n",
    "      <li> B-V and V-I -- color indexes indicate star's color </li>\n",
    "      <li> Var_period -- a period (in days) for variable stars </li>\n",
    "      <li> Var_type -- type of variability </li>\n",
    "      <li> Spectral_type -- a spectral type of an object represent stellar temperature and color. </li>\n",
    "</ul>"
   ]
  },
  {
   "cell_type": "markdown",
   "metadata": {},
   "source": [
    "### 1. Importing Python libraries"
   ]
  },
  {
   "cell_type": "code",
   "execution_count": 1,
   "metadata": {},
   "outputs": [],
   "source": [
    "import numpy as np\n",
    "import pandas as pd"
   ]
  },
  {
   "cell_type": "markdown",
   "metadata": {},
   "source": [
    "### 2. Reading input data file\n",
    "\n",
    "To read the main Hipparcos catalog file hip_main.dat, we will use the panda's function read_csv and specify what columns to read and the column names as a python list."
   ]
  },
  {
   "cell_type": "code",
   "execution_count": 2,
   "metadata": {
    "scrolled": true
   },
   "outputs": [
    {
     "data": {
      "text/html": [
       "<div>\n",
       "<style scoped>\n",
       "    .dataframe tbody tr th:only-of-type {\n",
       "        vertical-align: middle;\n",
       "    }\n",
       "\n",
       "    .dataframe tbody tr th {\n",
       "        vertical-align: top;\n",
       "    }\n",
       "\n",
       "    .dataframe thead th {\n",
       "        text-align: right;\n",
       "    }\n",
       "</style>\n",
       "<table border=\"1\" class=\"dataframe\">\n",
       "  <thead>\n",
       "    <tr style=\"text-align: right;\">\n",
       "      <th></th>\n",
       "      <th>Hip_No</th>\n",
       "      <th>Alpha</th>\n",
       "      <th>Delta</th>\n",
       "      <th>Vmag</th>\n",
       "      <th>B-V</th>\n",
       "      <th>V-I</th>\n",
       "      <th>Var_period</th>\n",
       "      <th>Var_type</th>\n",
       "      <th>Spectral_type</th>\n",
       "    </tr>\n",
       "  </thead>\n",
       "  <tbody>\n",
       "    <tr>\n",
       "      <td>0</td>\n",
       "      <td>1</td>\n",
       "      <td>00 00 00.22</td>\n",
       "      <td>+01 05 20.4</td>\n",
       "      <td>9.10</td>\n",
       "      <td>0.482</td>\n",
       "      <td>0.55</td>\n",
       "      <td></td>\n",
       "      <td></td>\n",
       "      <td>F5</td>\n",
       "    </tr>\n",
       "    <tr>\n",
       "      <td>1</td>\n",
       "      <td>2</td>\n",
       "      <td>00 00 00.91</td>\n",
       "      <td>-19 29 55.8</td>\n",
       "      <td>9.27</td>\n",
       "      <td>0.999</td>\n",
       "      <td>1.04</td>\n",
       "      <td></td>\n",
       "      <td>C</td>\n",
       "      <td>K3V</td>\n",
       "    </tr>\n",
       "    <tr>\n",
       "      <td>2</td>\n",
       "      <td>3</td>\n",
       "      <td>00 00 01.20</td>\n",
       "      <td>+38 51 33.4</td>\n",
       "      <td>6.61</td>\n",
       "      <td>-0.019</td>\n",
       "      <td>0.00</td>\n",
       "      <td></td>\n",
       "      <td>C</td>\n",
       "      <td>B9</td>\n",
       "    </tr>\n",
       "    <tr>\n",
       "      <td>3</td>\n",
       "      <td>4</td>\n",
       "      <td>00 00 02.01</td>\n",
       "      <td>-51 53 36.8</td>\n",
       "      <td>8.06</td>\n",
       "      <td>0.370</td>\n",
       "      <td>0.43</td>\n",
       "      <td></td>\n",
       "      <td></td>\n",
       "      <td>F0V</td>\n",
       "    </tr>\n",
       "    <tr>\n",
       "      <td>4</td>\n",
       "      <td>5</td>\n",
       "      <td>00 00 02.39</td>\n",
       "      <td>-40 35 28.4</td>\n",
       "      <td>8.55</td>\n",
       "      <td>0.902</td>\n",
       "      <td>0.90</td>\n",
       "      <td></td>\n",
       "      <td></td>\n",
       "      <td>G8III</td>\n",
       "    </tr>\n",
       "  </tbody>\n",
       "</table>\n",
       "</div>"
      ],
      "text/plain": [
       "   Hip_No        Alpha        Delta   Vmag     B-V   V-I Var_period Var_type  \\\n",
       "0       1  00 00 00.22  +01 05 20.4   9.10   0.482  0.55                       \n",
       "1       2  00 00 00.91  -19 29 55.8   9.27   0.999  1.04                   C   \n",
       "2       3  00 00 01.20  +38 51 33.4   6.61  -0.019  0.00                   C   \n",
       "3       4  00 00 02.01  -51 53 36.8   8.06   0.370  0.43                       \n",
       "4       5  00 00 02.39  -40 35 28.4   8.55   0.902  0.90                       \n",
       "\n",
       "  Spectral_type  \n",
       "0  F5            \n",
       "1  K3V           \n",
       "2  B9            \n",
       "3  F0V           \n",
       "4  G8III         "
      ]
     },
     "execution_count": 2,
     "metadata": {},
     "output_type": "execute_result"
    }
   ],
   "source": [
    "#file path and the file name\n",
    "file ='data/hip_main.dat'\n",
    "\n",
    "#list of the column names\n",
    "new_column_names=['Hip_No', 'Alpha', 'Delta', 'Vmag', 'B-V', 'V-I', 'Var_period', 'Var_type', 'Spectral_type']\n",
    "Hip= pd.read_csv(file, header=None, sep='|',\n",
    "                usecols=[1,3,4,5,37,40,51,52,76],\n",
    "                names=new_column_names, low_memory=False)\n",
    "\n",
    "#printing the first lines of the hip_main.dat\n",
    "Hip.head(5)"
   ]
  },
  {
   "cell_type": "markdown",
   "metadata": {},
   "source": [
    "### 3. Changing data types\n",
    "\n",
    "To perform numerical manipulations with the data frame, we will change the data type for the numerical columns using pd.to_numeric(). By default, the columns are of the object (string) type. The info shows that the Hip data frame has 118218 rows and 9 columns. We can also notice that some columns have missing values."
   ]
  },
  {
   "cell_type": "code",
   "execution_count": 3,
   "metadata": {},
   "outputs": [
    {
     "name": "stdout",
     "output_type": "stream",
     "text": [
      "<class 'pandas.core.frame.DataFrame'>\n",
      "RangeIndex: 118218 entries, 0 to 118217\n",
      "Data columns (total 9 columns):\n",
      "Hip_No           118218 non-null int64\n",
      "Alpha            118218 non-null object\n",
      "Delta            118218 non-null object\n",
      "Vmag             118217 non-null float64\n",
      "B-V              116937 non-null float64\n",
      "V-I              116943 non-null float64\n",
      "Var_period       2541 non-null float64\n",
      "Var_type         118218 non-null object\n",
      "Spectral_type    118218 non-null object\n",
      "dtypes: float64(4), int64(1), object(4)\n",
      "memory usage: 8.1+ MB\n"
     ]
    }
   ],
   "source": [
    "#changing data types, with errors='coerce' invalid parsing is set to NaN\n",
    "col_list=['Vmag', 'B-V', 'V-I', 'Var_period']\n",
    "\n",
    "for  col in col_list:\n",
    "    Hip[col]= pd.to_numeric(Hip[col],  errors='coerce')\n",
    "    \n",
    "#printing data frame info\n",
    "Hip.info(verbose=True)"
   ]
  },
  {
   "cell_type": "markdown",
   "metadata": {},
   "source": [
    "### 4. Finding the brightest and the faintest star in the catalog\n",
    "\n",
    "The brightest star in the sky is Sirius (Vmag=-1.4). After examining data frame, we can notice that Hipparcos observed and collected some data about Sirius!"
   ]
  },
  {
   "cell_type": "code",
   "execution_count": 4,
   "metadata": {},
   "outputs": [
    {
     "data": {
      "text/html": [
       "<div>\n",
       "<style scoped>\n",
       "    .dataframe tbody tr th:only-of-type {\n",
       "        vertical-align: middle;\n",
       "    }\n",
       "\n",
       "    .dataframe tbody tr th {\n",
       "        vertical-align: top;\n",
       "    }\n",
       "\n",
       "    .dataframe thead th {\n",
       "        text-align: right;\n",
       "    }\n",
       "</style>\n",
       "<table border=\"1\" class=\"dataframe\">\n",
       "  <thead>\n",
       "    <tr style=\"text-align: right;\">\n",
       "      <th></th>\n",
       "      <th>Hip_No</th>\n",
       "      <th>Alpha</th>\n",
       "      <th>Delta</th>\n",
       "      <th>Vmag</th>\n",
       "      <th>B-V</th>\n",
       "      <th>V-I</th>\n",
       "      <th>Var_period</th>\n",
       "      <th>Var_type</th>\n",
       "      <th>Spectral_type</th>\n",
       "    </tr>\n",
       "  </thead>\n",
       "  <tbody>\n",
       "    <tr>\n",
       "      <td>32324</td>\n",
       "      <td>32349</td>\n",
       "      <td>06 45 09.25</td>\n",
       "      <td>-16 42 47.3</td>\n",
       "      <td>-1.44</td>\n",
       "      <td>0.009</td>\n",
       "      <td>-0.02</td>\n",
       "      <td>NaN</td>\n",
       "      <td>U</td>\n",
       "      <td>A0m...</td>\n",
       "    </tr>\n",
       "  </tbody>\n",
       "</table>\n",
       "</div>"
      ],
      "text/plain": [
       "       Hip_No        Alpha        Delta  Vmag    B-V   V-I  Var_period  \\\n",
       "32324   32349  06 45 09.25  -16 42 47.3 -1.44  0.009 -0.02         NaN   \n",
       "\n",
       "      Var_type Spectral_type  \n",
       "32324        U  A0m...        "
      ]
     },
     "metadata": {},
     "output_type": "display_data"
    },
    {
     "data": {
      "text/html": [
       "<div>\n",
       "<style scoped>\n",
       "    .dataframe tbody tr th:only-of-type {\n",
       "        vertical-align: middle;\n",
       "    }\n",
       "\n",
       "    .dataframe tbody tr th {\n",
       "        vertical-align: top;\n",
       "    }\n",
       "\n",
       "    .dataframe thead th {\n",
       "        text-align: right;\n",
       "    }\n",
       "</style>\n",
       "<table border=\"1\" class=\"dataframe\">\n",
       "  <thead>\n",
       "    <tr style=\"text-align: right;\">\n",
       "      <th></th>\n",
       "      <th>Hip_No</th>\n",
       "      <th>Alpha</th>\n",
       "      <th>Delta</th>\n",
       "      <th>Vmag</th>\n",
       "      <th>B-V</th>\n",
       "      <th>V-I</th>\n",
       "      <th>Var_period</th>\n",
       "      <th>Var_type</th>\n",
       "      <th>Spectral_type</th>\n",
       "    </tr>\n",
       "  </thead>\n",
       "  <tbody>\n",
       "    <tr>\n",
       "      <td>70015</td>\n",
       "      <td>70079</td>\n",
       "      <td>14 20 28.21</td>\n",
       "      <td>-44 31 56.3</td>\n",
       "      <td>14.08</td>\n",
       "      <td>NaN</td>\n",
       "      <td>NaN</td>\n",
       "      <td>NaN</td>\n",
       "      <td></td>\n",
       "      <td></td>\n",
       "    </tr>\n",
       "  </tbody>\n",
       "</table>\n",
       "</div>"
      ],
      "text/plain": [
       "       Hip_No        Alpha        Delta   Vmag  B-V  V-I  Var_period Var_type  \\\n",
       "70015   70079  14 20 28.21  -44 31 56.3  14.08  NaN  NaN         NaN            \n",
       "\n",
       "      Spectral_type  \n",
       "70015                "
      ]
     },
     "metadata": {},
     "output_type": "display_data"
    }
   ],
   "source": [
    "#the brightest observed star with the Hipparcos\n",
    "max_magnitude=Hip.nsmallest(1,'Vmag')\n",
    "display(max_magnitude)\n",
    "\n",
    "#the faintest observed star with the Hipparcos\n",
    "min_magnitude=Hip.nlargest(1,'Vmag')\n",
    "display(min_magnitude)"
   ]
  },
  {
   "cell_type": "code",
   "execution_count": 5,
   "metadata": {},
   "outputs": [
    {
     "name": "stdout",
     "output_type": "stream",
     "text": [
      "Vmag: -1.44  to  14.08\n"
     ]
    }
   ],
   "source": [
    "#Range of stellar magnitudes observed with Hipparcos:\n",
    "print('Vmag:', max_magnitude.iloc[0]['Vmag'], ' to ', min_magnitude.iloc[0]['Vmag'])"
   ]
  },
  {
   "cell_type": "markdown",
   "metadata": {},
   "source": [
    "### 5. Calculating the number of variable stars in the catalog\n",
    "\n",
    "After exploring the Hip_main.dat file and Readme.txt, we can see  that most stars do not have values in the variability type and period fields. Some stars are marked with the letter 'P' indicating that they are periodic variables (changing their brightness in regular intervals) or letters 'M' and 'U' pointing to the other types of variability. \n",
    "\n",
    "To explore variable stars,  we will group and filter the Var_type and Var_period columns. "
   ]
  },
  {
   "cell_type": "code",
   "execution_count": 6,
   "metadata": {},
   "outputs": [
    {
     "data": {
      "text/plain": [
       "Var_type\n",
       "     46596\n",
       "C    46552\n",
       "D    12361\n",
       "M     1045\n",
       "P     2708\n",
       "R     1172\n",
       "U     7784\n",
       "Name: Hip_No, dtype: int64"
      ]
     },
     "metadata": {},
     "output_type": "display_data"
    },
    {
     "name": "stdout",
     "output_type": "stream",
     "text": [
      "Number of variable stars: 11537 ... 9.8 %\n"
     ]
    }
   ],
   "source": [
    "#grouping variable stars according to their type\n",
    "var_groups=Hip.groupby('Var_type')['Hip_No'].count()\n",
    "display(var_groups)\n",
    "\n",
    "#total number of stars in the catalog\n",
    "star_number=Hip['Hip_No'].value_counts(dropna=False).sum()\n",
    "\n",
    "#counting the number of periodic & other types of variables\n",
    "var=Hip[(Hip['Var_type'] =='P') | (Hip['Var_type'] == 'U') | (Hip['Var_type'] == 'M') ].count()\n",
    "\n",
    "#counting ratio\n",
    "ratio=round(var.Hip_No/star_number*100, 1)\n",
    "\n",
    "print ('Number of variable stars:',var[0], '...',ratio, '%')"
   ]
  },
  {
   "cell_type": "markdown",
   "metadata": {},
   "source": [
    "### 6. Finding the number of bluish stars in the catalog\n",
    "\n",
    "Stars with the negative colour index B-V are hot, blue stars."
   ]
  },
  {
   "cell_type": "code",
   "execution_count": 7,
   "metadata": {
    "scrolled": true
   },
   "outputs": [
    {
     "name": "stdout",
     "output_type": "stream",
     "text": [
      "Number of blue stars: 6894 ... 5.8 %\n"
     ]
    }
   ],
   "source": [
    "#filtering 'B-V' column\n",
    "blue_number=(Hip[(Hip['B-V'] <0) &(Hip['B-V'] > -0.5)]).count()\n",
    "star_number=Hip['B-V'].value_counts(dropna=False).sum()\n",
    "ratio = round(blue_number.Hip_No/star_number*100, 1)\n",
    "\n",
    "print('Number of blue stars:', blue_number.Hip_No, '...',ratio, '%')"
   ]
  },
  {
   "cell_type": "markdown",
   "metadata": {},
   "source": [
    "### 7. Converting the declination angle Delta"
   ]
  },
  {
   "cell_type": "code",
   "execution_count": 8,
   "metadata": {},
   "outputs": [],
   "source": [
    "#converting Delta angle to degrees\n",
    "\n",
    "def convert_delta(d,m,s):\n",
    "    deg=round((s/60+m)/60+abs(d), 2)\n",
    "    if d < 0:\n",
    "        return -deg\n",
    "    else:\n",
    "        return deg"
   ]
  },
  {
   "cell_type": "markdown",
   "metadata": {},
   "source": [
    "### 8. Calculating the number of the northern and southern stars in the catalog\n",
    "\n",
    "Some stars can be observed from the northern or the southern hemisphere. To find this, we grouped stars into two groups according to their Delta coordinates (expressed in angular units). Northern stars have Delta between 0 and +90 degrees, while southern stars have Delta between 0 and -90 degrees. "
   ]
  },
  {
   "cell_type": "code",
   "execution_count": 9,
   "metadata": {},
   "outputs": [
    {
     "data": {
      "text/html": [
       "<div>\n",
       "<style scoped>\n",
       "    .dataframe tbody tr th:only-of-type {\n",
       "        vertical-align: middle;\n",
       "    }\n",
       "\n",
       "    .dataframe tbody tr th {\n",
       "        vertical-align: top;\n",
       "    }\n",
       "\n",
       "    .dataframe thead th {\n",
       "        text-align: right;\n",
       "    }\n",
       "</style>\n",
       "<table border=\"1\" class=\"dataframe\">\n",
       "  <thead>\n",
       "    <tr style=\"text-align: right;\">\n",
       "      <th></th>\n",
       "      <th>deg</th>\n",
       "      <th>min</th>\n",
       "      <th>sec</th>\n",
       "      <th>Delta_deg</th>\n",
       "    </tr>\n",
       "  </thead>\n",
       "  <tbody>\n",
       "    <tr>\n",
       "      <td>0</td>\n",
       "      <td>1.0</td>\n",
       "      <td>5.0</td>\n",
       "      <td>20.4</td>\n",
       "      <td>1.09</td>\n",
       "    </tr>\n",
       "    <tr>\n",
       "      <td>1</td>\n",
       "      <td>-19.0</td>\n",
       "      <td>29.0</td>\n",
       "      <td>55.8</td>\n",
       "      <td>-19.50</td>\n",
       "    </tr>\n",
       "    <tr>\n",
       "      <td>2</td>\n",
       "      <td>38.0</td>\n",
       "      <td>51.0</td>\n",
       "      <td>33.4</td>\n",
       "      <td>38.86</td>\n",
       "    </tr>\n",
       "    <tr>\n",
       "      <td>3</td>\n",
       "      <td>-51.0</td>\n",
       "      <td>53.0</td>\n",
       "      <td>36.8</td>\n",
       "      <td>-51.89</td>\n",
       "    </tr>\n",
       "    <tr>\n",
       "      <td>4</td>\n",
       "      <td>-40.0</td>\n",
       "      <td>35.0</td>\n",
       "      <td>28.4</td>\n",
       "      <td>-40.59</td>\n",
       "    </tr>\n",
       "  </tbody>\n",
       "</table>\n",
       "</div>"
      ],
      "text/plain": [
       "    deg   min   sec  Delta_deg\n",
       "0   1.0   5.0  20.4       1.09\n",
       "1 -19.0  29.0  55.8     -19.50\n",
       "2  38.0  51.0  33.4      38.86\n",
       "3 -51.0  53.0  36.8     -51.89\n",
       "4 -40.0  35.0  28.4     -40.59"
      ]
     },
     "metadata": {},
     "output_type": "display_data"
    }
   ],
   "source": [
    "#selecting Delta column from the Hip dataframe\n",
    "delta=Hip[['Delta']]\n",
    "\n",
    "#counting the total number of stars\n",
    "total_stars=delta.count()  \n",
    "\n",
    "#splitting Delta column & changing the data type\n",
    "delta=delta['Delta'].str.split(' ', expand=True)\n",
    "delta.columns=['deg', 'min', 'sec']\n",
    "delta=delta.astype({'deg':float, 'min':float, 'sec': float})\n",
    "\n",
    "#converting deg, min, sec to degrees\n",
    "delta['Delta_deg']= delta.apply(\n",
    "     lambda row: convert_delta(row['deg'], row['min'], row['sec']),\n",
    "     axis=1)\n",
    "display(delta.head(5))\n",
    "\n",
    "#filter Delta_deg column for southern and northern stars\n",
    "delta_south=delta.loc[delta['Delta_deg']<0]\n",
    "south_stars=round(delta_south['Delta_deg'].count()/total_stars *100, 2)\n",
    "\n",
    "delta_north=delta.loc[delta['Delta_deg']>=0]\n",
    "north_stars=round(delta_north['deg'].count()/total_stars *100, 2)\n"
   ]
  },
  {
   "cell_type": "markdown",
   "metadata": {},
   "source": [
    "### 9. Printing the results\n",
    "\n",
    "These are some of the interesting features of the Hipparcos catalog..."
   ]
  },
  {
   "cell_type": "code",
   "execution_count": 10,
   "metadata": {},
   "outputs": [
    {
     "name": "stdout",
     "output_type": "stream",
     "text": [
      "Total number of stars in Hipparcos catalogue: 118218\n",
      "Number of Hipparcos northern stars: 49.27 %\n",
      "Number of Hipparcos southern stars: 50.73 %\n"
     ]
    }
   ],
   "source": [
    "\n",
    "print(\"Total number of stars in Hipparcos catalogue: %d\" %total_stars)\n",
    "print(\"Number of Hipparcos northern stars: %5.2f\" %north_stars,'%')\n",
    "print(\"Number of Hipparcos southern stars: %5.2f\" %south_stars,'%')"
   ]
  }
 ],
 "metadata": {
  "kernelspec": {
   "display_name": "Python 3",
   "language": "python",
   "name": "python3"
  },
  "language_info": {
   "codemirror_mode": {
    "name": "ipython",
    "version": 3
   },
   "file_extension": ".py",
   "mimetype": "text/x-python",
   "name": "python",
   "nbconvert_exporter": "python",
   "pygments_lexer": "ipython3",
   "version": "3.7.4"
  }
 },
 "nbformat": 4,
 "nbformat_minor": 2
}
