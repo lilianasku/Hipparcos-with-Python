{
 "cells": [
  {
   "cell_type": "markdown",
   "id": "inside-terrorist",
   "metadata": {},
   "source": [
    "### Writing an efficient Python code "
   ]
  },
  {
   "cell_type": "markdown",
   "id": "agricultural-latex",
   "metadata": {},
   "source": [
    "Having fast and reliable computational tools and algorithms is extremely important when working with large data sets. In Python, this is achieved by using tools, such as Pandas and Numpy arrays, and by writing readable and efficient codes in the so-called Pythonic way.  \n",
    "\n",
    "This notebook is an extension of the <b> Stars-Of-Hipparcos-catalog </b> project, demonstrating several additional Python tools used for writing more efficient, readable codes with a fast runtime and minimal memory usage.\n",
    "\n",
    "The same ten Hipparcos columns used in the <b> Stars-Of-Hipparcos-catalog </b> notebook are utilized in this notebook. Two additional columns, apparent stellar magnitudes and the absolute stellar magnitudes,  are calculated in the same way as in the previous notebook. "
   ]
  },
  {
   "cell_type": "markdown",
   "id": "offshore-protein",
   "metadata": {},
   "source": [
    "### Importing  and preparing data "
   ]
  },
  {
   "cell_type": "code",
   "execution_count": 1,
   "id": "removed-banks",
   "metadata": {},
   "outputs": [
    {
     "data": {
      "text/html": [
       "<div>\n",
       "<style scoped>\n",
       "    .dataframe tbody tr th:only-of-type {\n",
       "        vertical-align: middle;\n",
       "    }\n",
       "\n",
       "    .dataframe tbody tr th {\n",
       "        vertical-align: top;\n",
       "    }\n",
       "\n",
       "    .dataframe thead th {\n",
       "        text-align: right;\n",
       "    }\n",
       "</style>\n",
       "<table border=\"1\" class=\"dataframe\">\n",
       "  <thead>\n",
       "    <tr style=\"text-align: right;\">\n",
       "      <th></th>\n",
       "      <th>Hip_No</th>\n",
       "      <th>Alpha</th>\n",
       "      <th>Delta</th>\n",
       "      <th>Vmag</th>\n",
       "      <th>Plx</th>\n",
       "      <th>e_Plx</th>\n",
       "      <th>B-V</th>\n",
       "      <th>e_B-V</th>\n",
       "      <th>Spectral_type</th>\n",
       "    </tr>\n",
       "  </thead>\n",
       "  <tbody>\n",
       "    <tr>\n",
       "      <th>0</th>\n",
       "      <td>1</td>\n",
       "      <td>00 00 00.22</td>\n",
       "      <td>+01 05 20.4</td>\n",
       "      <td>9.10</td>\n",
       "      <td>3.54</td>\n",
       "      <td>1.39</td>\n",
       "      <td>0.482</td>\n",
       "      <td>0.025</td>\n",
       "      <td>F5</td>\n",
       "    </tr>\n",
       "    <tr>\n",
       "      <th>1</th>\n",
       "      <td>2</td>\n",
       "      <td>00 00 00.91</td>\n",
       "      <td>-19 29 55.8</td>\n",
       "      <td>9.27</td>\n",
       "      <td>21.90</td>\n",
       "      <td>3.10</td>\n",
       "      <td>0.999</td>\n",
       "      <td>0.002</td>\n",
       "      <td>K3V</td>\n",
       "    </tr>\n",
       "    <tr>\n",
       "      <th>3</th>\n",
       "      <td>4</td>\n",
       "      <td>00 00 02.01</td>\n",
       "      <td>-51 53 36.8</td>\n",
       "      <td>8.06</td>\n",
       "      <td>7.75</td>\n",
       "      <td>0.97</td>\n",
       "      <td>0.370</td>\n",
       "      <td>0.009</td>\n",
       "      <td>F0V</td>\n",
       "    </tr>\n",
       "    <tr>\n",
       "      <th>4</th>\n",
       "      <td>5</td>\n",
       "      <td>00 00 02.39</td>\n",
       "      <td>-40 35 28.4</td>\n",
       "      <td>8.55</td>\n",
       "      <td>2.87</td>\n",
       "      <td>1.11</td>\n",
       "      <td>0.902</td>\n",
       "      <td>0.013</td>\n",
       "      <td>G8III</td>\n",
       "    </tr>\n",
       "    <tr>\n",
       "      <th>5</th>\n",
       "      <td>6</td>\n",
       "      <td>00 00 04.35</td>\n",
       "      <td>+03 56 47.4</td>\n",
       "      <td>12.31</td>\n",
       "      <td>18.80</td>\n",
       "      <td>4.99</td>\n",
       "      <td>1.336</td>\n",
       "      <td>0.020</td>\n",
       "      <td>M0V:</td>\n",
       "    </tr>\n",
       "  </tbody>\n",
       "</table>\n",
       "</div>"
      ],
      "text/plain": [
       "   Hip_No        Alpha        Delta   Vmag    Plx  e_Plx    B-V  e_B-V  \\\n",
       "0       1  00 00 00.22  +01 05 20.4   9.10   3.54   1.39  0.482  0.025   \n",
       "1       2  00 00 00.91  -19 29 55.8   9.27  21.90   3.10  0.999  0.002   \n",
       "3       4  00 00 02.01  -51 53 36.8   8.06   7.75   0.97  0.370  0.009   \n",
       "4       5  00 00 02.39  -40 35 28.4   8.55   2.87   1.11  0.902  0.013   \n",
       "5       6  00 00 04.35  +03 56 47.4  12.31  18.80   4.99  1.336  0.020   \n",
       "\n",
       "  Spectral_type  \n",
       "0  F5            \n",
       "1  K3V           \n",
       "3  F0V           \n",
       "4  G8III         \n",
       "5  M0V:          "
      ]
     },
     "execution_count": 1,
     "metadata": {},
     "output_type": "execute_result"
    }
   ],
   "source": [
    "#importing Python libraries\n",
    "import numpy as np\n",
    "import pandas as pd\n",
    "\n",
    "file = '../data/hip_sp.csv'\n",
    "\n",
    "#defining column names\n",
    "new_column_names = ['Hip_No', 'Alpha', 'Delta','Vmag','Plx', 'e_Plx', 'B-V','e_B-V', 'ccdm_h','Spectral_type']\n",
    "\n",
    "#importing data\n",
    "hip_all_stars = pd.read_csv(file, header = None, sep =',',\n",
    "                usecols = [1,2,3,4,5,6,7,8,9,10],  \n",
    "                names = new_column_names,\n",
    "                low_memory = False)\n",
    "\n",
    "#changing column types\n",
    "col_list = ['Vmag', 'Plx', 'e_Plx', 'B-V', 'e_B-V']\n",
    "for  col in col_list:\n",
    "   hip_all_stars[col] = pd.to_numeric(hip_all_stars[col],  errors = 'coerce') \n",
    "\n",
    "#selecting only single stars with no ccdm_h flag\n",
    "df = hip_all_stars.loc[hip_all_stars['ccdm_h']==' ']\n",
    "\n",
    "#dropping ccdm_h column\n",
    "hip = df.drop(['ccdm_h'], axis = 1) \n",
    "\n",
    "#displaying DataFrame\n",
    "hip.head(5)"
   ]
  },
  {
   "cell_type": "code",
   "execution_count": 2,
   "id": "external-better",
   "metadata": {},
   "outputs": [
    {
     "name": "stdout",
     "output_type": "stream",
     "text": [
      "(85480, 10)\n"
     ]
    }
   ],
   "source": [
    "#selecting stars with positive Plx and with the relative errors in Plx < 0.80\n",
    "hip_stars = hip.loc[(hip['Plx']>0) & (hip['e_Plx']/hip['Plx'].abs()<0.80)].copy()\n",
    "\n",
    "hip_stars['Mv'] = hip_stars['Vmag'] + 5 - 5*np.log10(1000/hip_stars['Plx'])\n",
    "\n",
    "#rounding numbers\n",
    "hip_stars = hip_stars.round({'Mv': 2})\n",
    "\n",
    "print(hip_stars.shape)"
   ]
  },
  {
   "cell_type": "markdown",
   "id": "vietnamese-shopping",
   "metadata": {},
   "source": [
    "### How to eliminate loops\n",
    "\n",
    "We will list several possible ways to eliminate loops because they are inefficient and take more lines of code than needed. "
   ]
  },
  {
   "cell_type": "code",
   "execution_count": 3,
   "id": "precise-suspect",
   "metadata": {},
   "outputs": [
    {
     "name": "stdout",
     "output_type": "stream",
     "text": [
      "List of the absolute magnitudes for Sun-type stars: [4.36, 3.26] ...\n",
      "551\n",
      "Wall time: 13.2 s\n"
     ]
    }
   ],
   "source": [
    "%%time\n",
    "#for loop approach\n",
    "\n",
    "star_list = hip_stars[['Spectral_type', 'Mv']]\n",
    "\n",
    "suntype_stars = []\n",
    "for i,j in star_list.iterrows():\n",
    "    if 'G2V' in j['Spectral_type']:\n",
    "        suntype_stars.append(j['Mv'])\n",
    "\n",
    "print('List of the absolute magnitudes for Sun-type stars:', suntype_stars[:2], '...')\n",
    "print(len(suntype_stars))  "
   ]
  },
  {
   "cell_type": "code",
   "execution_count": 4,
   "id": "adaptive-mother",
   "metadata": {},
   "outputs": [
    {
     "name": "stdout",
     "output_type": "stream",
     "text": [
      "462\n",
      "The average absolute magnitude of the sun-like stars: 4.02\n",
      "Wall time: 87.5 ms\n"
     ]
    }
   ],
   "source": [
    "%%time\n",
    "#list comprehension approach\n",
    "\n",
    "from statistics import mean\n",
    "df_sp = hip_stars[['Spectral_type', 'Mv']]\n",
    "\n",
    "df_sunlike = df_sp[df_sp['Spectral_type'].str.strip() == 'G2V']\n",
    "print(len(df_sunlike))\n",
    "\n",
    "sunlike_avg = mean(df_sunlike['Mv'])\n",
    "print('The average absolute magnitude of the sun-like stars:', \n",
    "      round(sunlike_avg, 2))"
   ]
  },
  {
   "cell_type": "code",
   "execution_count": 5,
   "id": "guided-clause",
   "metadata": {},
   "outputs": [
    {
     "name": "stdout",
     "output_type": "stream",
     "text": [
      "462\n",
      "The average absolute magnitude of the sun-like stars: 4.02\n",
      "Wall time: 984 µs\n"
     ]
    }
   ],
   "source": [
    "%%time\n",
    "#NumPy approach\n",
    "\n",
    "numpy_sunlike= np.array(df_sunlike['Mv'])\n",
    "print(len(numpy_sunlike))\n",
    "\n",
    "sunlike_avg = numpy_sunlike.mean()\n",
    "print('The average absolute magnitude of the sun-like stars:', \n",
    "      round(sunlike_avg, 2))"
   ]
  },
  {
   "cell_type": "markdown",
   "id": "statutory-covering",
   "metadata": {},
   "source": [
    "### Using NumPy arrays\n",
    "\n",
    "Using NumPy arrays is the most efficient way of applying complex calculations on a set of numbers."
   ]
  },
  {
   "cell_type": "code",
   "execution_count": 6,
   "id": "complicated-merchant",
   "metadata": {},
   "outputs": [
    {
     "name": "stdout",
     "output_type": "stream",
     "text": [
      "[ 0.45464871 -0.37840125 -0.13970775  0.49467912 -0.27201056 -0.26828646\n",
      "  0.49530368 -0.14395166 -0.37549362  0.45647263]\n",
      "Wall time: 998 µs\n"
     ]
    }
   ],
   "source": [
    "%%time\n",
    "#list of right ascension in degrees\n",
    "\n",
    "alpha_list = [*range(1,360,1)]\n",
    "alpha_np = np.array(alpha_list)\n",
    "alpha_np_c = np.cos(alpha_np)*np.sin(alpha_np)\n",
    "print(alpha_np_c[0:10])"
   ]
  },
  {
   "cell_type": "markdown",
   "id": "casual-dispatch",
   "metadata": {},
   "source": [
    "### Combining objects\n",
    "\n",
    "We will combine the list of stellar absolute magnitudes with the list of stellar spectral types by using zip method as a more efficient way of combining two objects than the by using loops. "
   ]
  },
  {
   "cell_type": "code",
   "execution_count": 7,
   "id": "enabling-editor",
   "metadata": {},
   "outputs": [
    {
     "name": "stdout",
     "output_type": "stream",
     "text": [
      "<class 'list'>\n",
      "[(1.85, 'F5          '), (5.97, 'K3V         '), (2.51, 'F0V         ')]\n",
      "Wall time: 44.7 ms\n"
     ]
    }
   ],
   "source": [
    "%%time\n",
    "\n",
    "Mv_list = hip_stars['Mv']\n",
    "Sp_list = hip_stars['Spectral_type']\n",
    "\n",
    "star_infos_zip = zip(Mv_list, Sp_list)\n",
    "star_infos_zip_list = [* star_infos_zip]\n",
    "\n",
    "print(type(star_infos_zip_list))\n",
    "print(star_infos_zip_list[0:3])"
   ]
  },
  {
   "cell_type": "code",
   "execution_count": null,
   "id": "buried-error",
   "metadata": {},
   "outputs": [],
   "source": []
  }
 ],
 "metadata": {
  "kernelspec": {
   "display_name": "Python 3",
   "language": "python",
   "name": "python3"
  },
  "language_info": {
   "codemirror_mode": {
    "name": "ipython",
    "version": 3
   },
   "file_extension": ".py",
   "mimetype": "text/x-python",
   "name": "python",
   "nbconvert_exporter": "python",
   "pygments_lexer": "ipython3",
   "version": "3.7.4"
  }
 },
 "nbformat": 4,
 "nbformat_minor": 5
}
