{
 "cells": [
  {
   "cell_type": "markdown",
   "id": "major-legislature",
   "metadata": {},
   "source": [
    "### Hipparcos HR - diagram"
   ]
  },
  {
   "cell_type": "markdown",
   "id": "agricultural-latex",
   "metadata": {},
   "source": [
    "In this notebook, we will create Python codes that include various operations performed on the Hipparcos data. These functions can be used from other notebooks. "
   ]
  },
  {
   "cell_type": "markdown",
   "id": "enormous-cable",
   "metadata": {},
   "source": [
    "### 1. Importing and preparing data \n",
    "\n",
    "This function imports selected columns from the Hipparcos catalog into a DataFrame and prepares the columns by setting the data type of the numerical columns.  "
   ]
  },
  {
   "cell_type": "code",
   "execution_count": 1,
   "id": "removed-banks",
   "metadata": {},
   "outputs": [],
   "source": [
    "def Import_Hipparcos(filename):\n",
    "\n",
    "    #defining column names\n",
    "    new_column_names = ['Hip_No', 'Alpha', 'Delta','Vmag','Plx', 'e_Plx', 'B-V','e_B-V', 'ccdm_h','Spectral_type']\n",
    "\n",
    "    #importing data\n",
    "    hip_all_stars = pd.read_csv(file, header = None, sep =',',\n",
    "                    usecols = [1,2,3,4,5,6,7,8,9,10],  \n",
    "                    names = new_column_names,\n",
    "                    low_memory = False)\n",
    "\n",
    "    #changing column types\n",
    "    col_list = ['Vmag', 'Plx', 'e_Plx', 'B-V', 'e_B-V']\n",
    "    for  col in col_list:\n",
    "        hip_all_stars[col] = pd.to_numeric(hip_all_stars[col],  errors = 'coerce') \n",
    "\n",
    "    #selecting only single stars with no ccdm_h flag\n",
    "    df = hip_all_stars.loc[hip_all_stars['ccdm_h']==' ']\n",
    "\n",
    "    #dropping ccdm_h column\n",
    "    hip = df.drop(['ccdm_h'], axis = 1) \n",
    "    return(hip)    "
   ]
  },
  {
   "cell_type": "markdown",
   "id": "exact-occurrence",
   "metadata": {},
   "source": [
    "### 2.  Calculating the absolute stellar magnitudes\n",
    "\n",
    "This function calculates a new column in the DataFrame containing the absolute stellar magnitudes (Mv) of the Hipparcos stars. "
   ]
  },
  {
   "cell_type": "code",
   "execution_count": 2,
   "id": "aerial-flight",
   "metadata": {},
   "outputs": [],
   "source": [
    "def Find_AbsMag(df):\n",
    "    #selecting stars with positive Plx and with the relative errors in Plx < 0.80\n",
    "    hip_stars = df.loc[(df['Plx']>0) & (df['e_Plx']/df['Plx'].abs()<0.80)].copy()\n",
    "\n",
    "    #creating a new column with the absolute magnitude\n",
    "    hip_stars['Mv'] = hip_stars['Vmag'] + 5 - 5*np.log10(1000/hip_stars['Plx'])\n",
    "    \n",
    "    #rounding numbers\n",
    "    hip_stars = hip_stars.round({'Mv': 2})\n",
    "    return(hip_stars)"
   ]
  },
  {
   "cell_type": "markdown",
   "id": "generous-binary",
   "metadata": {},
   "source": [
    "### 3. The HR - diagram \n",
    "\n",
    "This function plots the Hertzsprung-Russell (HR) diagram presenting the change in the stellar luminosity, absolute magnitude (Mv), with the spectral type expressed through the B-V color index. "
   ]
  },
  {
   "cell_type": "code",
   "execution_count": 3,
   "id": "aging-percentage",
   "metadata": {},
   "outputs": [],
   "source": [
    "def HR_plot(df):\n",
    "\n",
    "    #selecting stars with the relative errors in parallax: e_Plx/abs(Plx) < 10 %\n",
    "    hip1 = df.loc[(df['e_Plx']/df['Plx'].abs())<0.10]\n",
    "    hip_plot = hip1.loc[hip1['B-V']< 2]\n",
    "    #marking selected stars\n",
    "    sns.set(rc={'figure.figsize':(10,8)})\n",
    "    sns.scatterplot(x ='B-V', y ='Mv', data = hip_plot, hue ='B-V', size ='B-V', sizes = (5,5), palette='turbo')\n",
    "\n",
    "    plt.ylim(15,-8)\n",
    "    plt.xlim(-0.5,2.3)\n",
    "    plt.title('Hertzsprung-Russell Diagram')\n",
    "    plt.annotate('Main sequence', xy=(0.4,7.0), rotation = -35)\n",
    "    plt.annotate('Giants', xy=(1.0,-0.2))\n",
    "    plt.annotate('Horizontal branch ', xy=(0.8,4.0))\n",
    "    plt.annotate('White dwarfs', xy=(-0.2,11.0))\n",
    "    plt.annotate('Red dwarfs', xy=(1.6,9.0))\n",
    "    plt.annotate('Blue supergiants', xy=(-0.35,-1.5))\n",
    "    #Sun's position at 0.63, 4.8\n",
    "    yellow_dot = plt.plot(0.63,4.8, marker='o', color='yellow', linestyle='none')\n",
    "    plt.legend(yellow_dot, ['Sun'])"
   ]
  }
 ],
 "metadata": {
  "kernelspec": {
   "display_name": "Python 3",
   "language": "python",
   "name": "python3"
  },
  "language_info": {
   "codemirror_mode": {
    "name": "ipython",
    "version": 3
   },
   "file_extension": ".py",
   "mimetype": "text/x-python",
   "name": "python",
   "nbconvert_exporter": "python",
   "pygments_lexer": "ipython3",
   "version": "3.7.4"
  }
 },
 "nbformat": 4,
 "nbformat_minor": 5
}
