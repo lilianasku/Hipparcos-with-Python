{
 "cells": [
  {
   "cell_type": "markdown",
   "id": "inside-terrorist",
   "metadata": {},
   "source": [
    "### Stars of the Hipparcos Catalogue\n",
    "#### Writing an efficient Python code for large data sets"
   ]
  },
  {
   "cell_type": "markdown",
   "id": "agricultural-latex",
   "metadata": {},
   "source": [
    "Astronomers and astrophysicists work with many different data sets obtained through ground-based and space-based telescopes. The volume of these data sets can be so large that includes over a million gigabytes of information. \n",
    "\n",
    "In 1989, the European Space Agency launched the Hipparcos satellite (HIgh Precision PARallax COllecting Satellite) to measure the parallax and proper motions of stars. The satellite was able to measure parallaxes to an order of magnitude better precision than previous methods. \n",
    "\n",
    "By providing positions, distances and proper motions for 118,218 stars to an average accuracy of 1 milliarcsecond, the satellite helped us to understand and calibrate the distance scale of the universe.\n",
    "\n",
    "The hip_sp.csv is a short version of the main Hipparcos catalog. The hip_sp.csv file contains 118218 rows and 11 columns, selected out of 78 columns from the main Hipparcos catalog. The selected columns are:\n",
    "\n",
    "<ul>    \n",
    "<li> Hip_No - unique Hipparcos number </li>\n",
    "<li> Alpha in (h,m,s) & Delta in (d,m,s)- right ascension and declination represent the stellar coordinates </li>\n",
    "<li> Vmag - visual magnitude is a measure of the apparent stellar brightness \n",
    "<li> Plx - trigonometric parallax in milliarcseconds is a small apparent angular shift in the position of a star on the sky due to Earth's motion around the Sun </li>\n",
    "<li> e_Plx - standard error in Plx in milliarcseconds </li></li>\n",
    "<li> B-V - color indexes indicate star's color </li>\n",
    "<li> e_B-V - standard error for B-V\n",
    "<li> n_CCDM - historical status flag for the multiple systems. Any of the following letters: H, I or M indicate a double or a multiple systems </li>   \n",
    "<li> Spectral_type - a spectral type of an object.  This quantity is a measure of the stellar temperature and color. </li>\n",
    "</ul>"
   ]
  },
  {
   "cell_type": "markdown",
   "id": "enormous-cable",
   "metadata": {},
   "source": [
    "### 1. Importing and preparing data \n"
   ]
  },
  {
   "cell_type": "code",
   "execution_count": 1,
   "id": "removed-banks",
   "metadata": {},
   "outputs": [
    {
     "data": {
      "text/html": [
       "<div>\n",
       "<style scoped>\n",
       "    .dataframe tbody tr th:only-of-type {\n",
       "        vertical-align: middle;\n",
       "    }\n",
       "\n",
       "    .dataframe tbody tr th {\n",
       "        vertical-align: top;\n",
       "    }\n",
       "\n",
       "    .dataframe thead th {\n",
       "        text-align: right;\n",
       "    }\n",
       "</style>\n",
       "<table border=\"1\" class=\"dataframe\">\n",
       "  <thead>\n",
       "    <tr style=\"text-align: right;\">\n",
       "      <th></th>\n",
       "      <th>Hip_No</th>\n",
       "      <th>Alpha</th>\n",
       "      <th>Delta</th>\n",
       "      <th>Vmag</th>\n",
       "      <th>Plx</th>\n",
       "      <th>e_Plx</th>\n",
       "      <th>B-V</th>\n",
       "      <th>e_B-V</th>\n",
       "      <th>ccdm_h</th>\n",
       "      <th>Spectral_type</th>\n",
       "    </tr>\n",
       "  </thead>\n",
       "  <tbody>\n",
       "    <tr>\n",
       "      <th>0</th>\n",
       "      <td>1</td>\n",
       "      <td>00 00 00.22</td>\n",
       "      <td>+01 05 20.4</td>\n",
       "      <td>9.10</td>\n",
       "      <td>3.54</td>\n",
       "      <td>1.39</td>\n",
       "      <td>0.482</td>\n",
       "      <td>0.025</td>\n",
       "      <td></td>\n",
       "      <td>F5</td>\n",
       "    </tr>\n",
       "    <tr>\n",
       "      <th>1</th>\n",
       "      <td>2</td>\n",
       "      <td>00 00 00.91</td>\n",
       "      <td>-19 29 55.8</td>\n",
       "      <td>9.27</td>\n",
       "      <td>21.90</td>\n",
       "      <td>3.10</td>\n",
       "      <td>0.999</td>\n",
       "      <td>0.002</td>\n",
       "      <td></td>\n",
       "      <td>K3V</td>\n",
       "    </tr>\n",
       "    <tr>\n",
       "      <th>2</th>\n",
       "      <td>3</td>\n",
       "      <td>00 00 01.20</td>\n",
       "      <td>+38 51 33.4</td>\n",
       "      <td>6.61</td>\n",
       "      <td>2.81</td>\n",
       "      <td>0.63</td>\n",
       "      <td>-0.019</td>\n",
       "      <td>0.004</td>\n",
       "      <td>I</td>\n",
       "      <td>B9</td>\n",
       "    </tr>\n",
       "    <tr>\n",
       "      <th>3</th>\n",
       "      <td>4</td>\n",
       "      <td>00 00 02.01</td>\n",
       "      <td>-51 53 36.8</td>\n",
       "      <td>8.06</td>\n",
       "      <td>7.75</td>\n",
       "      <td>0.97</td>\n",
       "      <td>0.370</td>\n",
       "      <td>0.009</td>\n",
       "      <td></td>\n",
       "      <td>F0V</td>\n",
       "    </tr>\n",
       "    <tr>\n",
       "      <th>4</th>\n",
       "      <td>5</td>\n",
       "      <td>00 00 02.39</td>\n",
       "      <td>-40 35 28.4</td>\n",
       "      <td>8.55</td>\n",
       "      <td>2.87</td>\n",
       "      <td>1.11</td>\n",
       "      <td>0.902</td>\n",
       "      <td>0.013</td>\n",
       "      <td></td>\n",
       "      <td>G8III</td>\n",
       "    </tr>\n",
       "  </tbody>\n",
       "</table>\n",
       "</div>"
      ],
      "text/plain": [
       "   Hip_No        Alpha        Delta  Vmag    Plx  e_Plx    B-V  e_B-V ccdm_h  \\\n",
       "0       1  00 00 00.22  +01 05 20.4  9.10   3.54   1.39  0.482  0.025          \n",
       "1       2  00 00 00.91  -19 29 55.8  9.27  21.90   3.10  0.999  0.002          \n",
       "2       3  00 00 01.20  +38 51 33.4  6.61   2.81   0.63 -0.019  0.004      I   \n",
       "3       4  00 00 02.01  -51 53 36.8  8.06   7.75   0.97  0.370  0.009          \n",
       "4       5  00 00 02.39  -40 35 28.4  8.55   2.87   1.11  0.902  0.013          \n",
       "\n",
       "  Spectral_type  \n",
       "0  F5            \n",
       "1  K3V           \n",
       "2  B9            \n",
       "3  F0V           \n",
       "4  G8III         "
      ]
     },
     "execution_count": 1,
     "metadata": {},
     "output_type": "execute_result"
    }
   ],
   "source": [
    "#importing Python libraries\n",
    "import numpy as np\n",
    "import pandas as pd\n",
    "\n",
    "#defining path\n",
    "file = '../data/hip_sp.csv'\n",
    "\n",
    "#defining column names\n",
    "new_column_names = ['Hip_No', 'Alpha', 'Delta','Vmag','Plx', 'e_Plx', 'B-V','e_B-V', 'ccdm_h','Spectral_type']\n",
    "\n",
    "#importing data\n",
    "hip_all_stars = pd.read_csv(file, header = None, sep =',',\n",
    "                usecols = [1,2,3,4,5,6,7,8,9,10],  \n",
    "                names = new_column_names,\n",
    "                low_memory = False)\n",
    "\n",
    "#changing column types: 'coerce' sets invalid parsing to 'NaN'\n",
    "col_list = ['Vmag', 'Plx', 'e_Plx', 'B-V', 'e_B-V']\n",
    "for  col in col_list:\n",
    "   hip_all_stars[col] = pd.to_numeric(hip_all_stars[col],  errors = 'coerce') \n",
    "\n",
    "#displaying data frame\n",
    "hip_all_stars.head(5)"
   ]
  },
  {
   "cell_type": "code",
   "execution_count": 2,
   "id": "indian-burlington",
   "metadata": {},
   "outputs": [
    {
     "name": "stdout",
     "output_type": "stream",
     "text": [
      "<class 'pandas.core.frame.DataFrame'>\n",
      "RangeIndex: 118218 entries, 0 to 118217\n",
      "Data columns (total 10 columns):\n",
      " #   Column         Non-Null Count   Dtype  \n",
      "---  ------         --------------   -----  \n",
      " 0   Hip_No         118218 non-null  int64  \n",
      " 1   Alpha          118218 non-null  object \n",
      " 2   Delta          118218 non-null  object \n",
      " 3   Vmag           118217 non-null  float64\n",
      " 4   Plx            117955 non-null  float64\n",
      " 5   e_Plx          117955 non-null  float64\n",
      " 6   B-V            116937 non-null  float64\n",
      " 7   e_B-V          116937 non-null  float64\n",
      " 8   ccdm_h         118218 non-null  object \n",
      " 9   Spectral_type  118218 non-null  object \n",
      "dtypes: float64(5), int64(1), object(4)\n",
      "memory usage: 9.0+ MB\n"
     ]
    }
   ],
   "source": [
    "#displaying a summary of a data frame\n",
    "hip_all_stars.info(verbose = True)"
   ]
  },
  {
   "cell_type": "code",
   "execution_count": 3,
   "id": "friendly-kitchen",
   "metadata": {},
   "outputs": [],
   "source": [
    "#selecting only single stars with no ccdm_h flag \n",
    "hip = hip_all_stars.loc[hip_all_stars['ccdm_h']==' ']"
   ]
  },
  {
   "cell_type": "markdown",
   "id": "figured-converter",
   "metadata": {},
   "source": [
    "### 2. Exploring stellar paralaxes \n",
    "\n",
    "Trigonometric stellar parallaxes in milliarcseconds are presented in the ['Plx'] column of the data frame. The parallax is an important stellar parameter because it is related to the stellar distance through a simple formula: [distance](in Parsecs) = 1/ [Plx] (in Arcseconds).\n",
    "\n",
    "The ['Plx'] values are usually small, positive numbers. However, the parallaxes can appear as large numbers or as negative numbers and there are several reasons for that. One of the main reasons for the negative parallaxes is having errors ['e_Plx'] larger than the small values for the parallax or observing stars in the crowded regions of the sky. In any case, we will not consider stars with the negative parallaxes and therefore negative distances. Use the .copy() command when creating a new data frame to explicitly tell pandas that we are making a copy of a data frame. "
   ]
  },
  {
   "cell_type": "code",
   "execution_count": 4,
   "id": "exposed-abraham",
   "metadata": {},
   "outputs": [
    {
     "name": "stdout",
     "output_type": "stream",
     "text": [
      "Number of stars without measured parallaxes:263\n",
      "Number of stars with negative parallaxes:4196\n"
     ]
    },
    {
     "data": {
      "text/plain": [
       "(113710, 10)"
      ]
     },
     "execution_count": 4,
     "metadata": {},
     "output_type": "execute_result"
    }
   ],
   "source": [
    "#Number of stars with no measured values for the parallax\n",
    "no_plx = hip_all_stars['Plx'].isnull().sum()\n",
    "print('Number of stars without measured parallaxes:{}'.format(no_plx) )\n",
    "\n",
    "#Number of stars with negative parallaxes\n",
    "negative_plx= sum([plx<0 for plx in hip_all_stars['Plx'].values])\n",
    "print('Number of stars with negative parallaxes:{}'.format(negative_plx) )\n",
    "\n",
    "#data frame with positive parallaxes\n",
    "#to prevent the SettingWithCopyWarning due to hidden chaining use .copy()\n",
    "hip_stars = hip_all_stars.loc[hip_all_stars['Plx']>0].copy()\n",
    "hip_stars.shape"
   ]
  },
  {
   "cell_type": "markdown",
   "id": "violent-madonna",
   "metadata": {},
   "source": [
    "### 3. Finding absolute stellar magnitudes"
   ]
  },
  {
   "cell_type": "code",
   "execution_count": 5,
   "id": "ceramic-outdoors",
   "metadata": {},
   "outputs": [
    {
     "name": "stdout",
     "output_type": "stream",
     "text": [
      "(113710, 11)\n"
     ]
    },
    {
     "data": {
      "text/html": [
       "<div>\n",
       "<style scoped>\n",
       "    .dataframe tbody tr th:only-of-type {\n",
       "        vertical-align: middle;\n",
       "    }\n",
       "\n",
       "    .dataframe tbody tr th {\n",
       "        vertical-align: top;\n",
       "    }\n",
       "\n",
       "    .dataframe thead th {\n",
       "        text-align: right;\n",
       "    }\n",
       "</style>\n",
       "<table border=\"1\" class=\"dataframe\">\n",
       "  <thead>\n",
       "    <tr style=\"text-align: right;\">\n",
       "      <th></th>\n",
       "      <th>Hip_No</th>\n",
       "      <th>Alpha</th>\n",
       "      <th>Delta</th>\n",
       "      <th>Vmag</th>\n",
       "      <th>Plx</th>\n",
       "      <th>e_Plx</th>\n",
       "      <th>B-V</th>\n",
       "      <th>e_B-V</th>\n",
       "      <th>ccdm_h</th>\n",
       "      <th>Spectral_type</th>\n",
       "      <th>Mv</th>\n",
       "    </tr>\n",
       "  </thead>\n",
       "  <tbody>\n",
       "    <tr>\n",
       "      <th>0</th>\n",
       "      <td>1</td>\n",
       "      <td>00 00 00.22</td>\n",
       "      <td>+01 05 20.4</td>\n",
       "      <td>9.10</td>\n",
       "      <td>3.54</td>\n",
       "      <td>1.39</td>\n",
       "      <td>0.482</td>\n",
       "      <td>0.025</td>\n",
       "      <td></td>\n",
       "      <td>F5</td>\n",
       "      <td>1.85</td>\n",
       "    </tr>\n",
       "    <tr>\n",
       "      <th>1</th>\n",
       "      <td>2</td>\n",
       "      <td>00 00 00.91</td>\n",
       "      <td>-19 29 55.8</td>\n",
       "      <td>9.27</td>\n",
       "      <td>21.90</td>\n",
       "      <td>3.10</td>\n",
       "      <td>0.999</td>\n",
       "      <td>0.002</td>\n",
       "      <td></td>\n",
       "      <td>K3V</td>\n",
       "      <td>5.97</td>\n",
       "    </tr>\n",
       "    <tr>\n",
       "      <th>2</th>\n",
       "      <td>3</td>\n",
       "      <td>00 00 01.20</td>\n",
       "      <td>+38 51 33.4</td>\n",
       "      <td>6.61</td>\n",
       "      <td>2.81</td>\n",
       "      <td>0.63</td>\n",
       "      <td>-0.019</td>\n",
       "      <td>0.004</td>\n",
       "      <td>I</td>\n",
       "      <td>B9</td>\n",
       "      <td>-1.15</td>\n",
       "    </tr>\n",
       "    <tr>\n",
       "      <th>3</th>\n",
       "      <td>4</td>\n",
       "      <td>00 00 02.01</td>\n",
       "      <td>-51 53 36.8</td>\n",
       "      <td>8.06</td>\n",
       "      <td>7.75</td>\n",
       "      <td>0.97</td>\n",
       "      <td>0.370</td>\n",
       "      <td>0.009</td>\n",
       "      <td></td>\n",
       "      <td>F0V</td>\n",
       "      <td>2.51</td>\n",
       "    </tr>\n",
       "    <tr>\n",
       "      <th>4</th>\n",
       "      <td>5</td>\n",
       "      <td>00 00 02.39</td>\n",
       "      <td>-40 35 28.4</td>\n",
       "      <td>8.55</td>\n",
       "      <td>2.87</td>\n",
       "      <td>1.11</td>\n",
       "      <td>0.902</td>\n",
       "      <td>0.013</td>\n",
       "      <td></td>\n",
       "      <td>G8III</td>\n",
       "      <td>0.84</td>\n",
       "    </tr>\n",
       "  </tbody>\n",
       "</table>\n",
       "</div>"
      ],
      "text/plain": [
       "   Hip_No        Alpha        Delta  Vmag    Plx  e_Plx    B-V  e_B-V ccdm_h  \\\n",
       "0       1  00 00 00.22  +01 05 20.4  9.10   3.54   1.39  0.482  0.025          \n",
       "1       2  00 00 00.91  -19 29 55.8  9.27  21.90   3.10  0.999  0.002          \n",
       "2       3  00 00 01.20  +38 51 33.4  6.61   2.81   0.63 -0.019  0.004      I   \n",
       "3       4  00 00 02.01  -51 53 36.8  8.06   7.75   0.97  0.370  0.009          \n",
       "4       5  00 00 02.39  -40 35 28.4  8.55   2.87   1.11  0.902  0.013          \n",
       "\n",
       "  Spectral_type    Mv  \n",
       "0  F5            1.85  \n",
       "1  K3V           5.97  \n",
       "2  B9           -1.15  \n",
       "3  F0V           2.51  \n",
       "4  G8III         0.84  "
      ]
     },
     "execution_count": 5,
     "metadata": {},
     "output_type": "execute_result"
    }
   ],
   "source": [
    "#new column with the absolute magnitude\n",
    "\n",
    "hip_stars['Mv'] = hip_stars['Vmag'] + 5 - 5*np.log10(1000/hip_stars['Plx'])\n",
    "\n",
    "#rounding using data frame\n",
    "hip_stars = hip_stars.round({'Mv': 2})\n",
    "\n",
    "print(hip_stars.shape)\n",
    "hip_stars.head(5)"
   ]
  },
  {
   "cell_type": "markdown",
   "id": "starting-variable",
   "metadata": {},
   "source": [
    "### 4. Exploring stars in the catalogue"
   ]
  },
  {
   "cell_type": "code",
   "execution_count": 6,
   "id": "obvious-buffer",
   "metadata": {},
   "outputs": [
    {
     "data": {
      "text/html": [
       "<div>\n",
       "<style scoped>\n",
       "    .dataframe tbody tr th:only-of-type {\n",
       "        vertical-align: middle;\n",
       "    }\n",
       "\n",
       "    .dataframe tbody tr th {\n",
       "        vertical-align: top;\n",
       "    }\n",
       "\n",
       "    .dataframe thead th {\n",
       "        text-align: right;\n",
       "    }\n",
       "</style>\n",
       "<table border=\"1\" class=\"dataframe\">\n",
       "  <thead>\n",
       "    <tr style=\"text-align: right;\">\n",
       "      <th></th>\n",
       "      <th>Hip_No</th>\n",
       "      <th>Alpha</th>\n",
       "      <th>Delta</th>\n",
       "      <th>Vmag</th>\n",
       "      <th>Plx</th>\n",
       "      <th>e_Plx</th>\n",
       "      <th>B-V</th>\n",
       "      <th>e_B-V</th>\n",
       "      <th>ccdm_h</th>\n",
       "      <th>Spectral_type</th>\n",
       "    </tr>\n",
       "  </thead>\n",
       "  <tbody>\n",
       "    <tr>\n",
       "      <th>32324</th>\n",
       "      <td>32349</td>\n",
       "      <td>06 45 09.25</td>\n",
       "      <td>-16 42 47.3</td>\n",
       "      <td>-1.44</td>\n",
       "      <td>379.21</td>\n",
       "      <td>1.58</td>\n",
       "      <td>0.009</td>\n",
       "      <td>0.007</td>\n",
       "      <td>I</td>\n",
       "      <td>A0m...</td>\n",
       "    </tr>\n",
       "  </tbody>\n",
       "</table>\n",
       "</div>"
      ],
      "text/plain": [
       "       Hip_No        Alpha        Delta  Vmag     Plx  e_Plx    B-V  e_B-V  \\\n",
       "32324   32349  06 45 09.25  -16 42 47.3 -1.44  379.21   1.58  0.009  0.007   \n",
       "\n",
       "      ccdm_h Spectral_type  \n",
       "32324      I  A0m...        "
      ]
     },
     "metadata": {},
     "output_type": "display_data"
    },
    {
     "data": {
      "text/html": [
       "<div>\n",
       "<style scoped>\n",
       "    .dataframe tbody tr th:only-of-type {\n",
       "        vertical-align: middle;\n",
       "    }\n",
       "\n",
       "    .dataframe tbody tr th {\n",
       "        vertical-align: top;\n",
       "    }\n",
       "\n",
       "    .dataframe thead th {\n",
       "        text-align: right;\n",
       "    }\n",
       "</style>\n",
       "<table border=\"1\" class=\"dataframe\">\n",
       "  <thead>\n",
       "    <tr style=\"text-align: right;\">\n",
       "      <th></th>\n",
       "      <th>Hip_No</th>\n",
       "      <th>Alpha</th>\n",
       "      <th>Delta</th>\n",
       "      <th>Vmag</th>\n",
       "      <th>Plx</th>\n",
       "      <th>e_Plx</th>\n",
       "      <th>B-V</th>\n",
       "      <th>e_B-V</th>\n",
       "      <th>ccdm_h</th>\n",
       "      <th>Spectral_type</th>\n",
       "    </tr>\n",
       "  </thead>\n",
       "  <tbody>\n",
       "    <tr>\n",
       "      <th>70015</th>\n",
       "      <td>70079</td>\n",
       "      <td>14 20 28.21</td>\n",
       "      <td>-44 31 56.3</td>\n",
       "      <td>14.08</td>\n",
       "      <td>-20.09</td>\n",
       "      <td>12.63</td>\n",
       "      <td>NaN</td>\n",
       "      <td>NaN</td>\n",
       "      <td></td>\n",
       "      <td></td>\n",
       "    </tr>\n",
       "  </tbody>\n",
       "</table>\n",
       "</div>"
      ],
      "text/plain": [
       "       Hip_No        Alpha        Delta   Vmag    Plx  e_Plx  B-V  e_B-V  \\\n",
       "70015   70079  14 20 28.21  -44 31 56.3  14.08 -20.09  12.63  NaN    NaN   \n",
       "\n",
       "      ccdm_h Spectral_type  \n",
       "70015                       "
      ]
     },
     "metadata": {},
     "output_type": "display_data"
    },
    {
     "name": "stdout",
     "output_type": "stream",
     "text": [
      "Number of stars brighter than the Sun:104320\n"
     ]
    }
   ],
   "source": [
    "#finding the brightest star in the catalogue\n",
    "max_magnitude = hip_all_stars.nsmallest(1,'Vmag')\n",
    "\n",
    "#finding the faintest star in the catalogue\n",
    "min_magnitude = hip_all_stars.nlargest(1,'Vmag')\n",
    "\n",
    "#filtering stars brighter than the Sun\n",
    "bright_df = hip_stars[hip_stars['Mv'] < 4.8]\n",
    "\n",
    "display(max_magnitude)\n",
    "display(min_magnitude)\n",
    "print('Number of stars brighter than the Sun:{}'.format(bright_df.shape[0]))"
   ]
  },
  {
   "cell_type": "code",
   "execution_count": 7,
   "id": "occupational-horizon",
   "metadata": {},
   "outputs": [
    {
     "name": "stdout",
     "output_type": "stream",
     "text": [
      "The slowest run took 13.86 times longer than the fastest. This could mean that an intermediate result is being cached.\n",
      "11.7 µs ± 10.1 µs per loop (mean ± std. dev. of 2 runs, 10 loops each)\n",
      "9.23 ms ± 360 µs per loop (mean ± std. dev. of 2 runs, 10 loops each)\n"
     ]
    }
   ],
   "source": [
    "#Creating list of Hipparcos numbers for the stars brighter than the Sun\n",
    "\n",
    "import timeit\n",
    "\n",
    "%timeit -r2 -n10 Hip_list1 = [bright_df['Hip_No']]\n",
    "\n",
    "%timeit -r2 -n10 Hip_list2 = list(bright_df['Hip_No'])"
   ]
  },
  {
   "cell_type": "markdown",
   "id": "posted-colors",
   "metadata": {},
   "source": [
    "### 5. Difference between Vmag and Mv  "
   ]
  },
  {
   "cell_type": "code",
   "execution_count": 8,
   "id": "gross-drinking",
   "metadata": {},
   "outputs": [
    {
     "name": "stdout",
     "output_type": "stream",
     "text": [
      "(57131, 11)\n",
      "(56579, 11)\n"
     ]
    }
   ],
   "source": [
    "import statistics\n",
    "\n",
    "#creating list of Vmag\n",
    "Vmag_list = hip_stars['Vmag']\n",
    "\n",
    "#spliting hip_star data frame into two dfs\n",
    "df1 = hip_stars [hip_stars['Vmag'] <= statistics.median(Vmag_list)]\n",
    "print(df1.shape)\n",
    "df2 = hip_stars [hip_stars['Vmag'] > statistics.median(Vmag_list)]\n",
    "print(df2.shape)\n",
    "\n",
    "#list of absolute magnitudes from the first df\n",
    "list_1 = df1['Mv']\n",
    "list_2 = df2['Mv']\n",
    "\n",
    "set_1 = set(list_1)\n",
    "set_2 = set(list_2)"
   ]
  },
  {
   "cell_type": "code",
   "execution_count": 9,
   "id": "informational-comedy",
   "metadata": {},
   "outputs": [
    {
     "name": "stdout",
     "output_type": "stream",
     "text": [
      "1362\n",
      "248 µs ± 28.1 µs per loop (mean ± std. dev. of 2 runs, 10 loops each)\n",
      "140\n",
      "93.4 µs ± 1.81 µs per loop (mean ± std. dev. of 2 runs, 10 loops each)\n",
      "2077\n",
      "176 µs ± 7.86 µs per loop (mean ± std. dev. of 2 runs, 10 loops each)\n"
     ]
    }
   ],
   "source": [
    "print(len(set_1.intersection(set_2)))\n",
    "%timeit -r2 -n10 set_1.intersection(set_2)\n",
    "\n",
    "print(len(set_1.difference(set_2)))\n",
    "%timeit -r2 -n10 set_1.difference(set_2)\n",
    "\n",
    "print(len(set_1.union(set_2)))\n",
    "%timeit -r2 -n10 set_1.union(set_2)"
   ]
  },
  {
   "cell_type": "markdown",
   "id": "exterior-reserve",
   "metadata": {},
   "source": [
    "### 6. Spectral type of Hipparcos stars\n",
    "\n",
    "The fastest way of counting how many stars belong to each spectral group is by using a special Python object called Counter. "
   ]
  },
  {
   "cell_type": "code",
   "execution_count": 10,
   "id": "verbal-camera",
   "metadata": {},
   "outputs": [
    {
     "name": "stdout",
     "output_type": "stream",
     "text": [
      "15.5 ms ± 270 µs per loop (mean ± std. dev. of 2 runs, 10 loops each)\n",
      "[('F5', 3861), ('K3V', 216), ('B9', 1581)]\n",
      "[('K0', 8570), ('G5', 6017), ('A0', 4944)]\n",
      "4125\n"
     ]
    }
   ],
   "source": [
    "from collections import Counter\n",
    "\n",
    "Sp_list = hip_all_stars['Spectral_type'].str.rstrip()\n",
    "\n",
    "#create instance of the counter and examining run time\n",
    "%timeit -r2 -n10 counter_dict = Counter(Sp_list)\n",
    "\n",
    "#first three spectral groups\n",
    "counter_dict = Counter(Sp_list)\n",
    "print(list(counter_dict.items())[:3])\n",
    "\n",
    "#printing the most common spectral groups \n",
    "print(counter_dict.most_common(3))\n",
    "print(len(counter_dict))"
   ]
  },
  {
   "cell_type": "markdown",
   "id": "checked-reception",
   "metadata": {},
   "source": [
    "### 7. Finding Sun like stars in the catalogue\n",
    "\n",
    "The best way to find all-stars in the catalog with the spectral type similar to our Sun? The Sun's spectral type is G2V. "
   ]
  },
  {
   "cell_type": "code",
   "execution_count": 11,
   "id": "approximate-skill",
   "metadata": {},
   "outputs": [
    {
     "name": "stdout",
     "output_type": "stream",
     "text": [
      "The average absolute magnitude of the sun-like stars: 3.95\n",
      "\n"
     ]
    },
    {
     "data": {
      "text/html": [
       "<div>\n",
       "<style scoped>\n",
       "    .dataframe tbody tr th:only-of-type {\n",
       "        vertical-align: middle;\n",
       "    }\n",
       "\n",
       "    .dataframe tbody tr th {\n",
       "        vertical-align: top;\n",
       "    }\n",
       "\n",
       "    .dataframe thead th {\n",
       "        text-align: right;\n",
       "    }\n",
       "</style>\n",
       "<table border=\"1\" class=\"dataframe\">\n",
       "  <thead>\n",
       "    <tr style=\"text-align: right;\">\n",
       "      <th></th>\n",
       "      <th>Hip_No</th>\n",
       "      <th>Alpha</th>\n",
       "      <th>Delta</th>\n",
       "      <th>Vmag</th>\n",
       "      <th>Plx</th>\n",
       "      <th>e_Plx</th>\n",
       "      <th>B-V</th>\n",
       "      <th>e_B-V</th>\n",
       "      <th>ccdm_h</th>\n",
       "      <th>Spectral_type</th>\n",
       "      <th>Mv</th>\n",
       "    </tr>\n",
       "  </thead>\n",
       "  <tbody>\n",
       "    <tr>\n",
       "      <th>79</th>\n",
       "      <td>80</td>\n",
       "      <td>00 00 58.03</td>\n",
       "      <td>-11 49 24.7</td>\n",
       "      <td>8.40</td>\n",
       "      <td>15.59</td>\n",
       "      <td>1.43</td>\n",
       "      <td>0.566</td>\n",
       "      <td>0.015</td>\n",
       "      <td></td>\n",
       "      <td>G2V</td>\n",
       "      <td>4.36</td>\n",
       "    </tr>\n",
       "    <tr>\n",
       "      <th>305</th>\n",
       "      <td>306</td>\n",
       "      <td>00 03 53.94</td>\n",
       "      <td>-57 49 49.3</td>\n",
       "      <td>8.59</td>\n",
       "      <td>14.36</td>\n",
       "      <td>2.44</td>\n",
       "      <td>0.616</td>\n",
       "      <td>0.003</td>\n",
       "      <td>I</td>\n",
       "      <td>G2V</td>\n",
       "      <td>4.38</td>\n",
       "    </tr>\n",
       "    <tr>\n",
       "      <th>393</th>\n",
       "      <td>394</td>\n",
       "      <td>00 04 53.21</td>\n",
       "      <td>+34 39 34.4</td>\n",
       "      <td>6.09</td>\n",
       "      <td>27.18</td>\n",
       "      <td>4.30</td>\n",
       "      <td>0.632</td>\n",
       "      <td>0.011</td>\n",
       "      <td></td>\n",
       "      <td>G2V</td>\n",
       "      <td>3.26</td>\n",
       "    </tr>\n",
       "    <tr>\n",
       "      <th>680</th>\n",
       "      <td>682</td>\n",
       "      <td>00 08 25.69</td>\n",
       "      <td>+06 37 00.5</td>\n",
       "      <td>7.59</td>\n",
       "      <td>25.15</td>\n",
       "      <td>0.97</td>\n",
       "      <td>0.626</td>\n",
       "      <td>0.015</td>\n",
       "      <td></td>\n",
       "      <td>G2V</td>\n",
       "      <td>4.59</td>\n",
       "    </tr>\n",
       "    <tr>\n",
       "      <th>706</th>\n",
       "      <td>705</td>\n",
       "      <td>00 08 47.38</td>\n",
       "      <td>+86 47 16.4</td>\n",
       "      <td>8.41</td>\n",
       "      <td>16.24</td>\n",
       "      <td>0.70</td>\n",
       "      <td>0.588</td>\n",
       "      <td>0.013</td>\n",
       "      <td></td>\n",
       "      <td>G2V</td>\n",
       "      <td>4.46</td>\n",
       "    </tr>\n",
       "  </tbody>\n",
       "</table>\n",
       "</div>"
      ],
      "text/plain": [
       "     Hip_No        Alpha        Delta  Vmag    Plx  e_Plx    B-V  e_B-V  \\\n",
       "79       80  00 00 58.03  -11 49 24.7  8.40  15.59   1.43  0.566  0.015   \n",
       "305     306  00 03 53.94  -57 49 49.3  8.59  14.36   2.44  0.616  0.003   \n",
       "393     394  00 04 53.21  +34 39 34.4  6.09  27.18   4.30  0.632  0.011   \n",
       "680     682  00 08 25.69  +06 37 00.5  7.59  25.15   0.97  0.626  0.015   \n",
       "706     705  00 08 47.38  +86 47 16.4  8.41  16.24   0.70  0.588  0.013   \n",
       "\n",
       "    ccdm_h Spectral_type    Mv  \n",
       "79          G2V           4.36  \n",
       "305      I  G2V           4.38  \n",
       "393         G2V           3.26  \n",
       "680         G2V           4.59  \n",
       "706         G2V           4.46  "
      ]
     },
     "metadata": {},
     "output_type": "display_data"
    }
   ],
   "source": [
    "#list comprehension approach\n",
    "from statistics import mean\n",
    "\n",
    "hip_sunlike = hip_stars[hip_stars['Spectral_type'].str.strip() == 'G2V']\n",
    "\n",
    "sunlike_avg = mean(hip_sunlike['Mv'])\n",
    "print('The average absolute magnitude of the sun-like stars:', \n",
    "      round(sunlike_avg, 2), end='\\n\\n')\n",
    "display(hip_sunlike.head(5))"
   ]
  },
  {
   "cell_type": "markdown",
   "id": "irish-routine",
   "metadata": {},
   "source": [
    "### 8. Calculating stellar distances\n",
    "\n",
    "To add the stellar distance as a new column into the existing data frame we need to apply the following formula: \n",
    "$$ d = 10^ {(Vmag - Mv +5)*0.2} $$\n",
    "where Mv is the absolute stellar magnitude, \n",
    "Vmag is the apparent stellar magnitude and d is the stellar distance in parsecs (pc). "
   ]
  },
  {
   "cell_type": "code",
   "execution_count": 12,
   "id": "lucky-counter",
   "metadata": {},
   "outputs": [
    {
     "name": "stdout",
     "output_type": "stream",
     "text": [
      "2.73 ms ± 472 µs per loop (mean ± std. dev. of 2 runs, 10 loops each)\n"
     ]
    }
   ],
   "source": [
    "hip_stars_d = hip_stars.copy()\n",
    "\n",
    "%timeit -r2 -n10 hip_stars_d ['Distance'] = 10 **((hip_stars['Vmag'] - hip_stars['Mv']  + 5)*0.2)\n",
    "hip_stars_d = hip_stars_d.round({'Distance': 2})"
   ]
  },
  {
   "cell_type": "code",
   "execution_count": 13,
   "id": "treated-mixture",
   "metadata": {},
   "outputs": [
    {
     "name": "stdout",
     "output_type": "stream",
     "text": [
      "(113710, 12)\n"
     ]
    },
    {
     "data": {
      "text/html": [
       "<div>\n",
       "<style scoped>\n",
       "    .dataframe tbody tr th:only-of-type {\n",
       "        vertical-align: middle;\n",
       "    }\n",
       "\n",
       "    .dataframe tbody tr th {\n",
       "        vertical-align: top;\n",
       "    }\n",
       "\n",
       "    .dataframe thead th {\n",
       "        text-align: right;\n",
       "    }\n",
       "</style>\n",
       "<table border=\"1\" class=\"dataframe\">\n",
       "  <thead>\n",
       "    <tr style=\"text-align: right;\">\n",
       "      <th></th>\n",
       "      <th>Hip_No</th>\n",
       "      <th>Alpha</th>\n",
       "      <th>Delta</th>\n",
       "      <th>Vmag</th>\n",
       "      <th>Plx</th>\n",
       "      <th>e_Plx</th>\n",
       "      <th>B-V</th>\n",
       "      <th>e_B-V</th>\n",
       "      <th>ccdm_h</th>\n",
       "      <th>Spectral_type</th>\n",
       "      <th>Mv</th>\n",
       "      <th>Distance</th>\n",
       "    </tr>\n",
       "  </thead>\n",
       "  <tbody>\n",
       "    <tr>\n",
       "      <th>0</th>\n",
       "      <td>1</td>\n",
       "      <td>00 00 00.22</td>\n",
       "      <td>+01 05 20.4</td>\n",
       "      <td>9.10</td>\n",
       "      <td>3.54</td>\n",
       "      <td>1.39</td>\n",
       "      <td>0.482</td>\n",
       "      <td>0.025</td>\n",
       "      <td></td>\n",
       "      <td>F5</td>\n",
       "      <td>1.85</td>\n",
       "      <td>281.84</td>\n",
       "    </tr>\n",
       "    <tr>\n",
       "      <th>1</th>\n",
       "      <td>2</td>\n",
       "      <td>00 00 00.91</td>\n",
       "      <td>-19 29 55.8</td>\n",
       "      <td>9.27</td>\n",
       "      <td>21.90</td>\n",
       "      <td>3.10</td>\n",
       "      <td>0.999</td>\n",
       "      <td>0.002</td>\n",
       "      <td></td>\n",
       "      <td>K3V</td>\n",
       "      <td>5.97</td>\n",
       "      <td>45.71</td>\n",
       "    </tr>\n",
       "    <tr>\n",
       "      <th>2</th>\n",
       "      <td>3</td>\n",
       "      <td>00 00 01.20</td>\n",
       "      <td>+38 51 33.4</td>\n",
       "      <td>6.61</td>\n",
       "      <td>2.81</td>\n",
       "      <td>0.63</td>\n",
       "      <td>-0.019</td>\n",
       "      <td>0.004</td>\n",
       "      <td>I</td>\n",
       "      <td>B9</td>\n",
       "      <td>-1.15</td>\n",
       "      <td>356.45</td>\n",
       "    </tr>\n",
       "    <tr>\n",
       "      <th>3</th>\n",
       "      <td>4</td>\n",
       "      <td>00 00 02.01</td>\n",
       "      <td>-51 53 36.8</td>\n",
       "      <td>8.06</td>\n",
       "      <td>7.75</td>\n",
       "      <td>0.97</td>\n",
       "      <td>0.370</td>\n",
       "      <td>0.009</td>\n",
       "      <td></td>\n",
       "      <td>F0V</td>\n",
       "      <td>2.51</td>\n",
       "      <td>128.82</td>\n",
       "    </tr>\n",
       "    <tr>\n",
       "      <th>4</th>\n",
       "      <td>5</td>\n",
       "      <td>00 00 02.39</td>\n",
       "      <td>-40 35 28.4</td>\n",
       "      <td>8.55</td>\n",
       "      <td>2.87</td>\n",
       "      <td>1.11</td>\n",
       "      <td>0.902</td>\n",
       "      <td>0.013</td>\n",
       "      <td></td>\n",
       "      <td>G8III</td>\n",
       "      <td>0.84</td>\n",
       "      <td>348.34</td>\n",
       "    </tr>\n",
       "  </tbody>\n",
       "</table>\n",
       "</div>"
      ],
      "text/plain": [
       "   Hip_No        Alpha        Delta  Vmag    Plx  e_Plx    B-V  e_B-V ccdm_h  \\\n",
       "0       1  00 00 00.22  +01 05 20.4  9.10   3.54   1.39  0.482  0.025          \n",
       "1       2  00 00 00.91  -19 29 55.8  9.27  21.90   3.10  0.999  0.002          \n",
       "2       3  00 00 01.20  +38 51 33.4  6.61   2.81   0.63 -0.019  0.004      I   \n",
       "3       4  00 00 02.01  -51 53 36.8  8.06   7.75   0.97  0.370  0.009          \n",
       "4       5  00 00 02.39  -40 35 28.4  8.55   2.87   1.11  0.902  0.013          \n",
       "\n",
       "  Spectral_type    Mv  Distance  \n",
       "0  F5            1.85    281.84  \n",
       "1  K3V           5.97     45.71  \n",
       "2  B9           -1.15    356.45  \n",
       "3  F0V           2.51    128.82  \n",
       "4  G8III         0.84    348.34  "
      ]
     },
     "metadata": {},
     "output_type": "display_data"
    }
   ],
   "source": [
    "print(hip_stars_d.shape)\n",
    "display(hip_stars_d.head(5))"
   ]
  },
  {
   "cell_type": "markdown",
   "id": "organic-tennis",
   "metadata": {},
   "source": [
    "### 9. Finding the most distant stars"
   ]
  },
  {
   "cell_type": "code",
   "execution_count": 14,
   "id": "looking-official",
   "metadata": {},
   "outputs": [
    {
     "data": {
      "text/html": [
       "<div>\n",
       "<style scoped>\n",
       "    .dataframe tbody tr th:only-of-type {\n",
       "        vertical-align: middle;\n",
       "    }\n",
       "\n",
       "    .dataframe tbody tr th {\n",
       "        vertical-align: top;\n",
       "    }\n",
       "\n",
       "    .dataframe thead th {\n",
       "        text-align: right;\n",
       "    }\n",
       "</style>\n",
       "<table border=\"1\" class=\"dataframe\">\n",
       "  <thead>\n",
       "    <tr style=\"text-align: right;\">\n",
       "      <th></th>\n",
       "      <th>Hip_No</th>\n",
       "      <th>Alpha</th>\n",
       "      <th>Delta</th>\n",
       "      <th>Vmag</th>\n",
       "      <th>Plx</th>\n",
       "      <th>e_Plx</th>\n",
       "      <th>B-V</th>\n",
       "      <th>e_B-V</th>\n",
       "      <th>ccdm_h</th>\n",
       "      <th>Spectral_type</th>\n",
       "      <th>Mv</th>\n",
       "      <th>Distance</th>\n",
       "    </tr>\n",
       "  </thead>\n",
       "  <tbody>\n",
       "    <tr>\n",
       "      <th>50070</th>\n",
       "      <td>50108</td>\n",
       "      <td>10 13 49.25</td>\n",
       "      <td>-68 03 35.4</td>\n",
       "      <td>6.73</td>\n",
       "      <td>0.93</td>\n",
       "      <td>0.50</td>\n",
       "      <td>-0.017</td>\n",
       "      <td>0.002</td>\n",
       "      <td></td>\n",
       "      <td>B6V</td>\n",
       "      <td>-3.43</td>\n",
       "      <td>1076.47</td>\n",
       "    </tr>\n",
       "    <tr>\n",
       "      <th>45708</th>\n",
       "      <td>45742</td>\n",
       "      <td>09 19 32.49</td>\n",
       "      <td>-55 11 11.4</td>\n",
       "      <td>6.28</td>\n",
       "      <td>0.95</td>\n",
       "      <td>0.51</td>\n",
       "      <td>-0.099</td>\n",
       "      <td>0.004</td>\n",
       "      <td></td>\n",
       "      <td>B5V</td>\n",
       "      <td>-3.83</td>\n",
       "      <td>1051.96</td>\n",
       "    </tr>\n",
       "    <tr>\n",
       "      <th>48763</th>\n",
       "      <td>48799</td>\n",
       "      <td>09 57 10.95</td>\n",
       "      <td>-52 38 19.7</td>\n",
       "      <td>6.13</td>\n",
       "      <td>0.95</td>\n",
       "      <td>0.48</td>\n",
       "      <td>-0.115</td>\n",
       "      <td>0.004</td>\n",
       "      <td></td>\n",
       "      <td>B3IV</td>\n",
       "      <td>-3.98</td>\n",
       "      <td>1051.96</td>\n",
       "    </tr>\n",
       "  </tbody>\n",
       "</table>\n",
       "</div>"
      ],
      "text/plain": [
       "       Hip_No        Alpha        Delta  Vmag   Plx  e_Plx    B-V  e_B-V  \\\n",
       "50070   50108  10 13 49.25  -68 03 35.4  6.73  0.93   0.50 -0.017  0.002   \n",
       "45708   45742  09 19 32.49  -55 11 11.4  6.28  0.95   0.51 -0.099  0.004   \n",
       "48763   48799  09 57 10.95  -52 38 19.7  6.13  0.95   0.48 -0.115  0.004   \n",
       "\n",
       "      ccdm_h Spectral_type    Mv  Distance  \n",
       "50070         B6V          -3.43   1076.47  \n",
       "45708         B5V          -3.83   1051.96  \n",
       "48763         B3IV         -3.98   1051.96  "
      ]
     },
     "metadata": {},
     "output_type": "display_data"
    }
   ],
   "source": [
    "#selecting stars with the relative errors in parallax: e_Plx/abs(Plx) < 60%\n",
    "hip_stars_d1 = hip_stars_d.loc[(hip_stars_d['e_Plx']/hip_stars_d['Plx'].abs())<0.60]\n",
    "\n",
    "#print(hip_stars_d1.head(10))\n",
    "df = hip_stars_d1.sort_values(by=['Distance'], ascending =False)\n",
    "display(df.head(3))"
   ]
  },
  {
   "cell_type": "markdown",
   "id": "alpha-kelly",
   "metadata": {},
   "source": [
    "### 10. HR - diagram"
   ]
  },
  {
   "cell_type": "code",
   "execution_count": 15,
   "id": "fiscal-relief",
   "metadata": {},
   "outputs": [],
   "source": [
    "def HR_plot(col_x, col_y, x_start, x_end, y_start, y_end, clr):\n",
    "    x = col_x\n",
    "    y = col_y\n",
    "    plt.plot(x, y, marker='.', linestyle='none', markersize=2, color=clr)\n",
    "    plt.xlim(x_start,x_end)\n",
    "    plt.ylim(y_start,y_end)\n",
    "    plt.xlabel('B-V')\n",
    "    plt.ylabel('Mv')\n",
    "    plt.title('Hipparcos Hertzsprung-Russell Diagram')"
   ]
  },
  {
   "cell_type": "code",
   "execution_count": 16,
   "id": "stunning-particle",
   "metadata": {},
   "outputs": [
    {
     "data": {
      "image/png": "[encoded data removed]",
      "text/plain": [
       "<Figure size 432x288 with 1 Axes>"
      ]
     },
     "metadata": {},
     "output_type": "display_data"
    }
   ],
   "source": [
    "#plotting HR diagram \n",
    "import matplotlib.pyplot as plt\n",
    "import seaborn as sns\n",
    "sns.set()\n",
    "\n",
    "HR_plot(hip_stars['B-V'], hip_stars['Mv'], -0.5, 5, 20, -20, 'blue')    "
   ]
  },
  {
   "cell_type": "code",
   "execution_count": 17,
   "id": "individual-estonia",
   "metadata": {},
   "outputs": [
    {
     "name": "stdout",
     "output_type": "stream",
     "text": [
      "<class 'pandas.core.frame.DataFrame'>\n",
      "Int64Index: 20858 entries, 6 to 118217\n",
      "Data columns (total 11 columns):\n",
      " #   Column         Non-Null Count  Dtype  \n",
      "---  ------         --------------  -----  \n",
      " 0   Hip_No         20858 non-null  int64  \n",
      " 1   Alpha          20858 non-null  object \n",
      " 2   Delta          20858 non-null  object \n",
      " 3   Vmag           20858 non-null  float64\n",
      " 4   Plx            20858 non-null  float64\n",
      " 5   e_Plx          20858 non-null  float64\n",
      " 6   B-V            20806 non-null  float64\n",
      " 7   e_B-V          20806 non-null  float64\n",
      " 8   ccdm_h         20858 non-null  object \n",
      " 9   Spectral_type  20858 non-null  object \n",
      " 10  Mv             20858 non-null  float64\n",
      "dtypes: float64(6), int64(1), object(4)\n",
      "memory usage: 1.9+ MB\n"
     ]
    }
   ],
   "source": [
    "#selecting stars with the relative errors in parallax: e_Plx/abs(Plx) < 10 %\n",
    "hip = hip_stars.loc[(hip_stars['e_Plx']/hip_stars['Plx'].abs())<0.10]\n",
    "hip.info()"
   ]
  },
  {
   "cell_type": "code",
   "execution_count": 18,
   "id": "distributed-guest",
   "metadata": {},
   "outputs": [
    {
     "data": {
      "text/plain": [
       "<matplotlib.legend.Legend at 0x218ee5a8e48>"
      ]
     },
     "execution_count": 18,
     "metadata": {},
     "output_type": "execute_result"
    },
    {
     "data": {
      "image/png": "[encoded data removed]",
      "text/plain": [
       "<Figure size 432x288 with 1 Axes>"
      ]
     },
     "metadata": {},
     "output_type": "display_data"
    }
   ],
   "source": [
    "HR_plot(hip['B-V'], hip['Mv'], -0.5, 2.5, 15,-5, 'blue')\n",
    "\n",
    "#Sun's position at 0.63, 4.8\n",
    "yellow_dot = plt.plot(0.63,4.8, marker='o', color='yellow', linestyle='none')\n",
    "plt.legend(yellow_dot, ['Sun'])"
   ]
  },
  {
   "cell_type": "code",
   "execution_count": 19,
   "id": "primary-karen",
   "metadata": {},
   "outputs": [
    {
     "data": {
      "text/plain": [
       "Text(0.5, 1.0, 'HR diagram')"
      ]
     },
     "execution_count": 19,
     "metadata": {},
     "output_type": "execute_result"
    },
    {
     "data": {
      "image/png": "[encoded data removed]",
      "text/plain": [
       "<Figure size 432x288 with 1 Axes>"
      ]
     },
     "metadata": {},
     "output_type": "display_data"
    }
   ],
   "source": [
    "sns.scatterplot(x ='B-V', y ='Mv', data = hip, hue ='B-V', size ='B-V', sizes = (1,1), palette='turbo')\n",
    "\n",
    "plt.ylim(15,-5)\n",
    "plt.xlim(-0.5,3.0)\n",
    "plt.title('HR diagram')"
   ]
  }
 ],
 "metadata": {
  "kernelspec": {
   "display_name": "Python 3",
   "language": "python",
   "name": "python3"
  },
  "language_info": {
   "codemirror_mode": {
    "name": "ipython",
    "version": 3
   },
   "file_extension": ".py",
   "mimetype": "text/x-python",
   "name": "python",
   "nbconvert_exporter": "python",
   "pygments_lexer": "ipython3",
   "version": "3.7.4"
  }
 },
 "nbformat": 4,
 "nbformat_minor": 5
}
