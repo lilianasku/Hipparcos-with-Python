{
 "cells": [
  {
   "cell_type": "markdown",
   "id": "fundamental-drink",
   "metadata": {},
   "source": [
    "# Writing efficient Python code "
   ]
  },
  {
   "cell_type": "markdown",
   "id": "agricultural-latex",
   "metadata": {},
   "source": [
    "In this project, we will explore how to write a Python program that is readable while at the same time efficient with the fast runtime and the minimal memory usage. \n",
    "\n",
    "A part of the main Hipparcos catalog was extracted into the Hp_Sp.csv file.  \n",
    "Hip_Sp.csv contains four columns: \n",
    "<ul>\n",
    "      <li> Hip_No -- unique Hipparcos number </li>\n",
    "      <li> Vmag -- visual magnitude as a measure of stellar apparent brightness </li> \n",
    "      <li> Mv -- absolute stellar magnitude, is a measure of the real steller brightnes and it is calculated from the Hipparcos aparent visual magnitude (Vmag) and the Hipparcos measured parallax (Plx). </li>\n",
    "      <li> Spectral_type -- is a measure of stellar temperature or color. </li>\n",
    "</ul>"
   ]
  },
  {
   "cell_type": "markdown",
   "id": "offshore-protein",
   "metadata": {},
   "source": [
    "### Importing data "
   ]
  },
  {
   "cell_type": "code",
   "execution_count": 1,
   "id": "removed-banks",
   "metadata": {},
   "outputs": [
    {
     "name": "stdout",
     "output_type": "stream",
     "text": [
      "Wall time: 1.18 s\n"
     ]
    },
    {
     "data": {
      "text/html": [
       "<div>\n",
       "<style scoped>\n",
       "    .dataframe tbody tr th:only-of-type {\n",
       "        vertical-align: middle;\n",
       "    }\n",
       "\n",
       "    .dataframe tbody tr th {\n",
       "        vertical-align: top;\n",
       "    }\n",
       "\n",
       "    .dataframe thead th {\n",
       "        text-align: right;\n",
       "    }\n",
       "</style>\n",
       "<table border=\"1\" class=\"dataframe\">\n",
       "  <thead>\n",
       "    <tr style=\"text-align: right;\">\n",
       "      <th></th>\n",
       "      <th>Hip_No</th>\n",
       "      <th>Vmag</th>\n",
       "      <th>Mv</th>\n",
       "      <th>Spectral_type</th>\n",
       "    </tr>\n",
       "  </thead>\n",
       "  <tbody>\n",
       "    <tr>\n",
       "      <th>0</th>\n",
       "      <td>1</td>\n",
       "      <td>9.10</td>\n",
       "      <td>1.845016</td>\n",
       "      <td>F5</td>\n",
       "    </tr>\n",
       "    <tr>\n",
       "      <th>1</th>\n",
       "      <td>2</td>\n",
       "      <td>9.27</td>\n",
       "      <td>5.972221</td>\n",
       "      <td>K3V</td>\n",
       "    </tr>\n",
       "    <tr>\n",
       "      <th>2</th>\n",
       "      <td>3</td>\n",
       "      <td>6.61</td>\n",
       "      <td>-1.146468</td>\n",
       "      <td>B9</td>\n",
       "    </tr>\n",
       "    <tr>\n",
       "      <th>3</th>\n",
       "      <td>4</td>\n",
       "      <td>8.06</td>\n",
       "      <td>2.506509</td>\n",
       "      <td>F0V</td>\n",
       "    </tr>\n",
       "    <tr>\n",
       "      <th>4</th>\n",
       "      <td>5</td>\n",
       "      <td>8.55</td>\n",
       "      <td>0.839409</td>\n",
       "      <td>G8III</td>\n",
       "    </tr>\n",
       "  </tbody>\n",
       "</table>\n",
       "</div>"
      ],
      "text/plain": [
       "   Hip_No  Vmag        Mv Spectral_type\n",
       "0       1  9.10  1.845016  F5          \n",
       "1       2  9.27  5.972221  K3V         \n",
       "2       3  6.61 -1.146468  B9          \n",
       "3       4  8.06  2.506509  F0V         \n",
       "4       5  8.55  0.839409  G8III       "
      ]
     },
     "execution_count": 1,
     "metadata": {},
     "output_type": "execute_result"
    }
   ],
   "source": [
    "%%time\n",
    "import numpy as np\n",
    "import pandas as pd\n",
    "\n",
    "file = '../data/Hip_Sp.csv'\n",
    "new_column_names = ['Hip_No', 'Vmag', 'Mv', 'Spectral_type']\n",
    "hip_sp = pd.read_csv(file, header = 0, sep=',',\n",
    "                  usecols=[1,2,3,4],\n",
    "                  names=new_column_names)\n",
    "hip_sp.head(5)"
   ]
  },
  {
   "cell_type": "markdown",
   "id": "based-korean",
   "metadata": {},
   "source": [
    "###  Pythonic .vs. non-pythonic code\n",
    "\n",
    "How many stars from the Hipparcos catalog, are brighter than our Sun, knowing that the absolute magnitude of the Sun is 4.83? To answer this question,  we need to compare and count the number of stars from the Mv column of the hip_sp dataframe. All-stars from the catalog with the absolute magnitudes, Mv, less than 4.83, are brighter than our Sun.     "
   ]
  }
 ],
 "metadata": {
  "kernelspec": {
   "display_name": "Python 3",
   "language": "python",
   "name": "python3"
  },
  "language_info": {
   "codemirror_mode": {
    "name": "ipython",
    "version": 3
   },
   "file_extension": ".py",
   "mimetype": "text/x-python",
   "name": "python",
   "nbconvert_exporter": "python",
   "pygments_lexer": "ipython3",
   "version": "3.7.4"
  }
 },
 "nbformat": 4,
 "nbformat_minor": 5
}
