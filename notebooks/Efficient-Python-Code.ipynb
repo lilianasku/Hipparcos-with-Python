{
 "cells": [
  {
   "cell_type": "markdown",
   "id": "fundamental-drink",
   "metadata": {},
   "source": [
    "# Writing efficient Python code "
   ]
  },
  {
   "cell_type": "markdown",
   "id": "agricultural-latex",
   "metadata": {},
   "source": [
    "In this project, we will explore how to write a Python program that is readable while at the same time efficient with the fast runtime and the minimal memory usage. \n",
    "\n",
    "A part of the main Hipparcos catalog was extracted into the Hp_Sp.csv file.  \n",
    "Hip_Sp.csv contains four columns: \n",
    "<ul>\n",
    "      <li> Hip_No -- unique Hipparcos number </li>\n",
    "      <li> Vmag -- visual magnitude as a measure of stellar apparent brightness </li> \n",
    "      <li> Mv -- absolute stellar magnitude, is a measure of the real steller brightnes and it is calculated from the Hipparcos aparent visual magnitude (Vmag) and the Hipparcos measured parallax (Plx). </li>\n",
    "      <li> Spectral_type -- is a measure of stellar temperature or color. </li>\n",
    "</ul>"
   ]
  },
  {
   "cell_type": "markdown",
   "id": "offshore-protein",
   "metadata": {},
   "source": [
    "### Importing data "
   ]
  },
  {
   "cell_type": "code",
   "execution_count": 1,
   "id": "removed-banks",
   "metadata": {},
   "outputs": [
    {
     "name": "stdout",
     "output_type": "stream",
     "text": [
      "Wall time: 491 ms\n"
     ]
    },
    {
     "data": {
      "text/html": [
       "<div>\n",
       "<style scoped>\n",
       "    .dataframe tbody tr th:only-of-type {\n",
       "        vertical-align: middle;\n",
       "    }\n",
       "\n",
       "    .dataframe tbody tr th {\n",
       "        vertical-align: top;\n",
       "    }\n",
       "\n",
       "    .dataframe thead th {\n",
       "        text-align: right;\n",
       "    }\n",
       "</style>\n",
       "<table border=\"1\" class=\"dataframe\">\n",
       "  <thead>\n",
       "    <tr style=\"text-align: right;\">\n",
       "      <th></th>\n",
       "      <th>Hip_No</th>\n",
       "      <th>Vmag</th>\n",
       "      <th>Mv</th>\n",
       "      <th>Spectral_type</th>\n",
       "    </tr>\n",
       "  </thead>\n",
       "  <tbody>\n",
       "    <tr>\n",
       "      <th>0</th>\n",
       "      <td>1</td>\n",
       "      <td>9.10</td>\n",
       "      <td>1.845016</td>\n",
       "      <td>F5</td>\n",
       "    </tr>\n",
       "    <tr>\n",
       "      <th>1</th>\n",
       "      <td>2</td>\n",
       "      <td>9.27</td>\n",
       "      <td>5.972221</td>\n",
       "      <td>K3V</td>\n",
       "    </tr>\n",
       "    <tr>\n",
       "      <th>2</th>\n",
       "      <td>3</td>\n",
       "      <td>6.61</td>\n",
       "      <td>-1.146468</td>\n",
       "      <td>B9</td>\n",
       "    </tr>\n",
       "    <tr>\n",
       "      <th>3</th>\n",
       "      <td>4</td>\n",
       "      <td>8.06</td>\n",
       "      <td>2.506509</td>\n",
       "      <td>F0V</td>\n",
       "    </tr>\n",
       "    <tr>\n",
       "      <th>4</th>\n",
       "      <td>5</td>\n",
       "      <td>8.55</td>\n",
       "      <td>0.839409</td>\n",
       "      <td>G8III</td>\n",
       "    </tr>\n",
       "  </tbody>\n",
       "</table>\n",
       "</div>"
      ],
      "text/plain": [
       "   Hip_No  Vmag        Mv Spectral_type\n",
       "0       1  9.10  1.845016  F5          \n",
       "1       2  9.27  5.972221  K3V         \n",
       "2       3  6.61 -1.146468  B9          \n",
       "3       4  8.06  2.506509  F0V         \n",
       "4       5  8.55  0.839409  G8III       "
      ]
     },
     "execution_count": 1,
     "metadata": {},
     "output_type": "execute_result"
    }
   ],
   "source": [
    "%%time\n",
    "import numpy as np\n",
    "import pandas as pd\n",
    "\n",
    "file = '../data/Hip_Sp.csv'\n",
    "new_column_names = ['Hip_No', 'Vmag', 'Mv', 'Spectral_type']\n",
    "hip_sp = pd.read_csv(file, header = 0, sep=',',\n",
    "                  usecols=[1,2,3,4],\n",
    "                  names=new_column_names)\n",
    "hip_sp.head(5)"
   ]
  },
  {
   "cell_type": "markdown",
   "id": "based-korean",
   "metadata": {},
   "source": [
    "###  Pythonic .vs. non-pythonic code\n",
    "\n",
    "How many stars from our Hp_Sp.csv file are more luminous than the Sun, knowing that the absolute magnitude of the Sun is 4.83? To answer this question,  we need to count the number of stars from the Mv column of the hip_sp data frame. All-stars from the catalog with the absolute magnitudes, Mv, less than 4.83, are more luminous than our Sun.  "
   ]
  },
  {
   "cell_type": "code",
   "execution_count": 2,
   "id": "published-cherry",
   "metadata": {},
   "outputs": [
    {
     "name": "stdout",
     "output_type": "stream",
     "text": [
      "104597\n",
      "Wall time: 543 ms\n"
     ]
    }
   ],
   "source": [
    "%%time\n",
    "\n",
    "#Non-Pythonic Way\n",
    "\n",
    "star_list = []\n",
    "for i in range(0,len(hip_sp['Mv'])):\n",
    "    mag = hip_sp['Mv'][i]\n",
    "    if mag < 4.83:\n",
    "       star_list.append(mag)\n",
    "\n",
    "print(len(star_list))"
   ]
  },
  {
   "cell_type": "code",
   "execution_count": 3,
   "id": "sexual-program",
   "metadata": {},
   "outputs": [
    {
     "name": "stdout",
     "output_type": "stream",
     "text": [
      "104597\n",
      "Wall time: 20 ms\n"
     ]
    }
   ],
   "source": [
    "%%time\n",
    "\n",
    "#Pythonic Way\n",
    "\n",
    "star_list = [mag for mag in hip_sp['Mv'] if mag < 4.83]\n",
    "\n",
    "print(len(star_list))"
   ]
  },
  {
   "cell_type": "markdown",
   "id": "juvenile-meeting",
   "metadata": {},
   "source": [
    "### Examining runtime \n",
    "\n",
    "To select the most efficient code we will examine the runtime using one of the magic commands. The module timeit will time many executions for one statement. We can set the number of runs using -r option and the number of loops using -n option. On the other hand, the %%time command measures actual time to complete a command and it can be affected by any other operations in the computer. "
   ]
  },
  {
   "cell_type": "code",
   "execution_count": 4,
   "id": "important-recipe",
   "metadata": {},
   "outputs": [
    {
     "name": "stdout",
     "output_type": "stream",
     "text": [
      "13.7 ms ± 294 µs per loop (mean ± std. dev. of 7 runs, 100 loops each)\n",
      "14.6 ms ± 149 µs per loop (mean ± std. dev. of 2 runs, 10 loops each)\n"
     ]
    }
   ],
   "source": [
    "import timeit\n",
    "\n",
    "%timeit star_list = [mag for mag in hip_sp['Mv'] if mag < 4.83]\n",
    "\n",
    "%timeit -r2 -n10 star_list = [mag for mag in hip_sp['Mv'] if mag < 4.83]"
   ]
  },
  {
   "cell_type": "markdown",
   "id": "needed-shanghai",
   "metadata": {},
   "source": [
    "For example, we can compare times that takes to create a list by using the standard syntax [] or by using Python's built-in function list()."
   ]
  },
  {
   "cell_type": "code",
   "execution_count": 5,
   "id": "positive-outline",
   "metadata": {},
   "outputs": [
    {
     "name": "stdout",
     "output_type": "stream",
     "text": [
      "2.46 µs ± 905 ns per loop (mean ± std. dev. of 2 runs, 10 loops each)\n",
      "10.9 ms ± 516 µs per loop (mean ± std. dev. of 2 runs, 10 loops each)\n"
     ]
    }
   ],
   "source": [
    "%timeit -r2 -n10 Mv_list1 = [hip_sp['Mv']]\n",
    "\n",
    "%timeit -r2 -n10 Mv_list2 = list(hip_sp['Mv'])"
   ]
  },
  {
   "cell_type": "markdown",
   "id": "corrected-comment",
   "metadata": {},
   "source": [
    "###  List of Hipparacos numbers for different stars \n",
    "\n",
    "Let's create a list of Hip Ids and an indexed list of absolute magnitudes using Python's built-in functions."
   ]
  },
  {
   "cell_type": "code",
   "execution_count": 6,
   "id": "alleged-travel",
   "metadata": {},
   "outputs": [
    {
     "name": "stdout",
     "output_type": "stream",
     "text": [
      "118321\n",
      "Wall time: 12.3 ms\n"
     ]
    }
   ],
   "source": [
    "%%time\n",
    "hip_id_list = list(hip_sp['Hip_No'])\n",
    "\n",
    "hip_id_list1 = [* range(1, hip_id_list[-1])]\n",
    "print(len(hip_id_list1))"
   ]
  },
  {
   "cell_type": "code",
   "execution_count": 7,
   "id": "searching-provision",
   "metadata": {},
   "outputs": [
    {
     "name": "stdout",
     "output_type": "stream",
     "text": [
      "(1, 1.8450163101289387)\n",
      "Wall time: 24 ms\n"
     ]
    }
   ],
   "source": [
    "%%time\n",
    "mag_list = list(hip_sp['Mv'])\n",
    "\n",
    "indexed_list = [* enumerate(mag_list, 1)]\n",
    "print(indexed_list[0])"
   ]
  },
  {
   "cell_type": "markdown",
   "id": "industrial-recruitment",
   "metadata": {},
   "source": [
    "### Rounding values using  dataframes"
   ]
  },
  {
   "cell_type": "code",
   "execution_count": 8,
   "id": "allied-melissa",
   "metadata": {},
   "outputs": [
    {
     "name": "stdout",
     "output_type": "stream",
     "text": [
      "   Hip_No  Vmag    Mv Spectral_type\n",
      "0       1  9.10  1.85  F5          \n",
      "1       2  9.27  5.97  K3V         \n",
      "2       3  6.61 -1.15  B9          \n",
      "3       4  8.06  2.51  F0V         \n",
      "4       5  8.55  0.84  G8III       \n",
      "Wall time: 14 ms\n"
     ]
    }
   ],
   "source": [
    "%%time\n",
    "\n",
    "hip_sp2 = hip_sp.round({'Mv': 2})\n",
    "print(hip_sp2.head(5))"
   ]
  },
  {
   "cell_type": "code",
   "execution_count": 9,
   "id": "broken-acrobat",
   "metadata": {},
   "outputs": [
    {
     "name": "stdout",
     "output_type": "stream",
     "text": [
      "0    1.85\n",
      "1    5.97\n",
      "2   -1.15\n",
      "3    2.51\n",
      "4    0.84\n",
      "Name: Mv, dtype: float64\n",
      "Wall time: 12 ms\n"
     ]
    }
   ],
   "source": [
    "%%time\n",
    "\n",
    "Mv_list = round(hip_sp['Mv'], 2)\n",
    "print(Mv_list[0:5])"
   ]
  },
  {
   "cell_type": "markdown",
   "id": "classified-stanford",
   "metadata": {},
   "source": [
    "### Using NumPy array \n",
    "\n",
    "Using NumPy arrays is the most efficient way of applying complex calculations on a set of numbers. "
   ]
  },
  {
   "cell_type": "code",
   "execution_count": 10,
   "id": "bronze-antique",
   "metadata": {},
   "outputs": [
    {
     "name": "stdout",
     "output_type": "stream",
     "text": [
      "[ 0.45464871 -0.37840125 -0.13970775  0.49467912 -0.27201056 -0.26828646\n",
      "  0.49530368 -0.14395166 -0.37549362  0.45647263]\n",
      "Wall time: 0 ns\n"
     ]
    }
   ],
   "source": [
    "%%time\n",
    "#list of right ascension in degrees\n",
    "\n",
    "alpha_list = [*range(1,360,1)]\n",
    "alpha_np = np.array(alpha_list)\n",
    "alpha_np_c = np.cos(alpha_np)*np.sin(alpha_np)\n",
    "print(alpha_np_c[0:10])"
   ]
  },
  {
   "cell_type": "markdown",
   "id": "legislative-center",
   "metadata": {},
   "source": [
    "### Combining objects\n",
    "\n",
    "We will combine the list of stellar absolute magnitudes with the list of stellar spectral types and try to find the most efficient way of combining two objects. Using zip method is more efficient than using for loop. "
   ]
  },
  {
   "cell_type": "code",
   "execution_count": 11,
   "id": "binary-loading",
   "metadata": {},
   "outputs": [
    {
     "name": "stdout",
     "output_type": "stream",
     "text": [
      "<class 'list'>\n",
      "[(1.8450163101289387, 'F5          '), (5.972220574200591, 'K3V         '), (-1.1464684004746015, 'B9          ')]\n",
      "Wall time: 404 ms\n"
     ]
    }
   ],
   "source": [
    "%%time\n",
    "\n",
    "Mv_list = hip_sp['Mv']\n",
    "Sp_list = hip_sp['Spectral_type']\n",
    "\n",
    "star_infos = []\n",
    "for i,magnitud in enumerate(Mv_list):\n",
    "    star_infos.append((magnitud, Sp_list[i]))\n",
    "\n",
    "print(type(star_infos)) \n",
    "print(star_infos[0:3])"
   ]
  },
  {
   "cell_type": "code",
   "execution_count": 12,
   "id": "collective-julian",
   "metadata": {},
   "outputs": [
    {
     "name": "stdout",
     "output_type": "stream",
     "text": [
      "<class 'list'>\n",
      "[(1.8450163101289387, 'F5          '), (5.972220574200591, 'K3V         '), (-1.1464684004746015, 'B9          ')]\n",
      "Wall time: 36 ms\n"
     ]
    }
   ],
   "source": [
    "%%time\n",
    "\n",
    "Mv_list = hip_sp['Mv']\n",
    "Sp_list = hip_sp['Spectral_type']\n",
    "\n",
    "star_infos_zip = zip(Mv_list, Sp_list)\n",
    "star_infos_zip_list = [* star_infos_zip]\n",
    "\n",
    "print(type(star_infos_zip_list))\n",
    "print(star_infos_zip_list[0:3])"
   ]
  }
 ],
 "metadata": {
  "kernelspec": {
   "display_name": "Python 3",
   "language": "python",
   "name": "python3"
  },
  "language_info": {
   "codemirror_mode": {
    "name": "ipython",
    "version": 3
   },
   "file_extension": ".py",
   "mimetype": "text/x-python",
   "name": "python",
   "nbconvert_exporter": "python",
   "pygments_lexer": "ipython3",
   "version": "3.7.4"
  }
 },
 "nbformat": 4,
 "nbformat_minor": 5
}
