{
 "cells": [
  {
   "cell_type": "markdown",
   "id": "inside-terrorist",
   "metadata": {},
   "source": [
    "### Writing an efficient Python code "
   ]
  },
  {
   "cell_type": "markdown",
   "id": "agricultural-latex",
   "metadata": {},
   "source": [
    "This notebook is an extension of the <b> Stars-Of-Hipparcos-catalog </b> project, demonstrating several additional Python tools used for writing more efficient, readable codes with a fast runtime and minimal memory usage.\n",
    "\n",
    "The same ten Hipparcos columns used in the <b> Stars-Of-Hipparcos-catalog </b> notebook are utilized in this notebook. Two additional columns, apparent stellar magnitudes and the absolute stellar magnitudes,  are calculated in the same way as in the previous notebook. "
   ]
  },
  {
   "cell_type": "markdown",
   "id": "offshore-protein",
   "metadata": {},
   "source": [
    "### Importing  and preparing data "
   ]
  },
  {
   "cell_type": "code",
   "execution_count": 1,
   "id": "removed-banks",
   "metadata": {},
   "outputs": [],
   "source": [
    "import numpy as np\n",
    "import pandas as pd\n",
    "\n",
    "file = '../data/hip_sp.csv'\n",
    "\n",
    "def load_data(file):\n",
    "    new_column_names = ['Hip_No', 'Alpha', 'Delta','Vmag', 'B-V', 'V-I', 'Plx', 'e_Plx', 'Var_period', 'Var_type','Spectral_type']\n",
    "    hip_sp1 = pd.read_csv(file, header = None, sep =',',\n",
    "              usecols = [1,2,3,4,5,6,7,8,9,10,11],  \n",
    "              names = new_column_names,\n",
    "              low_memory = False)\n",
    "\n",
    "    return hip_sp1\n",
    "\n",
    "def transform_data(df):\n",
    "#changing data types of the columns\n",
    "    col_list = ['Vmag', 'Plx', 'e_Plx', 'B-V', 'V-I', 'Var_period']\n",
    "\n",
    "    for  col in col_list:\n",
    "        hip_sp1[col] = pd.to_numeric(hip_sp1[col],  errors = 'coerce')\n",
    "    \n",
    "    hip_sp1.info(verbose = True) \n",
    "\n"
   ]
  },
  {
   "cell_type": "code",
   "execution_count": 2,
   "id": "external-better",
   "metadata": {},
   "outputs": [
    {
     "name": "stdout",
     "output_type": "stream",
     "text": [
      "<class 'pandas.core.frame.DataFrame'>\n",
      "RangeIndex: 118218 entries, 0 to 118217\n",
      "Data columns (total 11 columns):\n",
      " #   Column         Non-Null Count   Dtype  \n",
      "---  ------         --------------   -----  \n",
      " 0   Hip_No         118218 non-null  int64  \n",
      " 1   Alpha          118218 non-null  object \n",
      " 2   Delta          118218 non-null  object \n",
      " 3   Vmag           118217 non-null  float64\n",
      " 4   B-V            117955 non-null  float64\n",
      " 5   V-I            117955 non-null  float64\n",
      " 6   Plx            116937 non-null  float64\n",
      " 7   e_Plx          116937 non-null  float64\n",
      " 8   Var_period     0 non-null       float64\n",
      " 9   Var_type       118218 non-null  object \n",
      " 10  Spectral_type  0 non-null       object \n",
      "dtypes: float64(6), int64(1), object(4)\n",
      "memory usage: 9.9+ MB\n"
     ]
    }
   ],
   "source": [
    "hip_sp1 = load_data(file)\n",
    "\n",
    "transform_data(hip_sp1)"
   ]
  },
  {
   "cell_type": "markdown",
   "id": "religious-retail",
   "metadata": {},
   "source": [
    "### Calculating the absolute stellar magnitudes"
   ]
  },
  {
   "cell_type": "code",
   "execution_count": 3,
   "id": "peripheral-flood",
   "metadata": {},
   "outputs": [],
   "source": [
    "def find_absolute_mag(df):\n",
    "    invalid_values = np.seterr(invalid='ignore')\n",
    "    df['Mv'] = df['Vmag'] + 5 - 5*np.log10(1000/df['Plx']) \n",
    "    \n",
    "    \n",
    "find_absolute_mag(hip_sp1)\n",
    "\n",
    "#filter rows with NaN values in Mv columns\n",
    "hip_sp = hip_sp1.dropna(subset = ['Mv'])\n",
    "   "
   ]
  }
 ],
 "metadata": {
  "kernelspec": {
   "display_name": "Python 3",
   "language": "python",
   "name": "python3"
  },
  "language_info": {
   "codemirror_mode": {
    "name": "ipython",
    "version": 3
   },
   "file_extension": ".py",
   "mimetype": "text/x-python",
   "name": "python",
   "nbconvert_exporter": "python",
   "pygments_lexer": "ipython3",
   "version": "3.7.4"
  }
 },
 "nbformat": 4,
 "nbformat_minor": 5
}
