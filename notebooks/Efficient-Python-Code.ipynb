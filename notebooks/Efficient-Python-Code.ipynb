{
 "cells": [
  {
   "cell_type": "markdown",
   "id": "inside-terrorist",
   "metadata": {},
   "source": [
    "### Writing an efficient Python code "
   ]
  },
  {
   "cell_type": "markdown",
   "id": "agricultural-latex",
   "metadata": {},
   "source": [
    "In this project, we will explore how to write a Python program that is readable while at the same time efficient with the fast runtime and the minimal memory usage.\n",
    "\n",
    "The hip_sp.csv is a short version of the main Hipparcos catalog. The hip_sp.csv file contains 118218 rows and 11 columns, selected out of 78 columns from the main catalog. The selected columns are:\n",
    "\n",
    "<ul>    \n",
    "<li> Hip_No -- unique Hipparcos number </li>\n",
    "<li> Alpha & Delta -- right ascension and declination represent the stellar coordinates </li>\n",
    "<li> Vmag -- visual magnitude is a measure of the apparent stellar brightness </li>\n",
    "<li> B-V and V-I -- color indexes indicate star's color </li>\n",
    "<li> Plx -- trigonometric parallax in milli arcseconds </li>\n",
    "<li> e_Plx -- standard error in Plx in milliarcseconds </li>\n",
    "<li> Var_period -- a period (in days) for variable stars </li>\n",
    "<li> Var_type -- type of variability </li>\n",
    "<li> Spectral_type -- a spectral type of an object that represents stellar temperature and color </li>\n",
    "</ul>\n",
    "\n",
    "Some additional columns calculated based on the given set of columns are :\n",
    "<ul>\n",
    " <li> Mv -- absolute stellar magnitude, is a measure of the real stellar brightness and it is calculated from the Hipparcos apparent visual magnitude (Vmag) and the Hipparcos measured parallax (Plx). </li>\n",
    "<li> distance -- in parsecs is calculated using apparent magnitude mv and absolute magnitude Mv </li>\n",
    "</ul>"
   ]
  },
  {
   "cell_type": "markdown",
   "id": "offshore-protein",
   "metadata": {},
   "source": [
    "### Importing data "
   ]
  },
  {
   "cell_type": "code",
   "execution_count": 18,
   "id": "removed-banks",
   "metadata": {},
   "outputs": [
    {
     "name": "stdout",
     "output_type": "stream",
     "text": [
      "Wall time: 236 ms\n"
     ]
    },
    {
     "data": {
      "text/html": [
       "<div>\n",
       "<style scoped>\n",
       "    .dataframe tbody tr th:only-of-type {\n",
       "        vertical-align: middle;\n",
       "    }\n",
       "\n",
       "    .dataframe tbody tr th {\n",
       "        vertical-align: top;\n",
       "    }\n",
       "\n",
       "    .dataframe thead th {\n",
       "        text-align: right;\n",
       "    }\n",
       "</style>\n",
       "<table border=\"1\" class=\"dataframe\">\n",
       "  <thead>\n",
       "    <tr style=\"text-align: right;\">\n",
       "      <th></th>\n",
       "      <th>Hip_No</th>\n",
       "      <th>Alpha(h,m,s)</th>\n",
       "      <th>Delta(d,m,s)</th>\n",
       "      <th>Vmag</th>\n",
       "      <th>B-V</th>\n",
       "      <th>V-I</th>\n",
       "      <th>Plx(mas)</th>\n",
       "      <th>e_Plx(mas)</th>\n",
       "      <th>Var_period</th>\n",
       "      <th>Var_type</th>\n",
       "      <th>Spectral_type</th>\n",
       "    </tr>\n",
       "  </thead>\n",
       "  <tbody>\n",
       "    <tr>\n",
       "      <th>0</th>\n",
       "      <td>1</td>\n",
       "      <td>00 00 00.22</td>\n",
       "      <td>+01 05 20.4</td>\n",
       "      <td>9.10</td>\n",
       "      <td>3.54</td>\n",
       "      <td>1.39</td>\n",
       "      <td>0.482</td>\n",
       "      <td>0.55</td>\n",
       "      <td></td>\n",
       "      <td></td>\n",
       "      <td>F5</td>\n",
       "    </tr>\n",
       "    <tr>\n",
       "      <th>1</th>\n",
       "      <td>2</td>\n",
       "      <td>00 00 00.91</td>\n",
       "      <td>-19 29 55.8</td>\n",
       "      <td>9.27</td>\n",
       "      <td>21.90</td>\n",
       "      <td>3.10</td>\n",
       "      <td>0.999</td>\n",
       "      <td>1.04</td>\n",
       "      <td></td>\n",
       "      <td>C</td>\n",
       "      <td>K3V</td>\n",
       "    </tr>\n",
       "    <tr>\n",
       "      <th>2</th>\n",
       "      <td>3</td>\n",
       "      <td>00 00 01.20</td>\n",
       "      <td>+38 51 33.4</td>\n",
       "      <td>6.61</td>\n",
       "      <td>2.81</td>\n",
       "      <td>0.63</td>\n",
       "      <td>-0.019</td>\n",
       "      <td>0.00</td>\n",
       "      <td></td>\n",
       "      <td>C</td>\n",
       "      <td>B9</td>\n",
       "    </tr>\n",
       "    <tr>\n",
       "      <th>3</th>\n",
       "      <td>4</td>\n",
       "      <td>00 00 02.01</td>\n",
       "      <td>-51 53 36.8</td>\n",
       "      <td>8.06</td>\n",
       "      <td>7.75</td>\n",
       "      <td>0.97</td>\n",
       "      <td>0.370</td>\n",
       "      <td>0.43</td>\n",
       "      <td></td>\n",
       "      <td></td>\n",
       "      <td>F0V</td>\n",
       "    </tr>\n",
       "    <tr>\n",
       "      <th>4</th>\n",
       "      <td>5</td>\n",
       "      <td>00 00 02.39</td>\n",
       "      <td>-40 35 28.4</td>\n",
       "      <td>8.55</td>\n",
       "      <td>2.87</td>\n",
       "      <td>1.11</td>\n",
       "      <td>0.902</td>\n",
       "      <td>0.90</td>\n",
       "      <td></td>\n",
       "      <td></td>\n",
       "      <td>G8III</td>\n",
       "    </tr>\n",
       "  </tbody>\n",
       "</table>\n",
       "</div>"
      ],
      "text/plain": [
       "   Hip_No Alpha(h,m,s) Delta(d,m,s)   Vmag      B-V     V-I Plx(mas)  \\\n",
       "0       1  00 00 00.22  +01 05 20.4   9.10     3.54    1.39    0.482   \n",
       "1       2  00 00 00.91  -19 29 55.8   9.27    21.90    3.10    0.999   \n",
       "2       3  00 00 01.20  +38 51 33.4   6.61     2.81    0.63   -0.019   \n",
       "3       4  00 00 02.01  -51 53 36.8   8.06     7.75    0.97    0.370   \n",
       "4       5  00 00 02.39  -40 35 28.4   8.55     2.87    1.11    0.902   \n",
       "\n",
       "  e_Plx(mas) Var_period Var_type Spectral_type  \n",
       "0       0.55                      F5            \n",
       "1       1.04                   C  K3V           \n",
       "2       0.00                   C  B9            \n",
       "3       0.43                      F0V           \n",
       "4       0.90                      G8III         "
      ]
     },
     "execution_count": 18,
     "metadata": {},
     "output_type": "execute_result"
    }
   ],
   "source": [
    "%%time\n",
    "import numpy as np\n",
    "import pandas as pd\n",
    "\n",
    "file = '../data/hip_sp.csv'\n",
    "\n",
    "new_column_names = ['Hip_No', 'Alpha(h,m,s)', 'Delta(d,m,s)','Vmag', 'B-V', 'V-I', 'Plx(mas)', 'e_Plx(mas)', 'Var_period', 'Var_type','Spectral_type']\n",
    "hip_sp = pd.read_csv(file, header = None, sep =',',\n",
    "                usecols = [1,2,3,4,5,6,7,8,9,10,11],  \n",
    "                names = new_column_names,\n",
    "                low_memory = False)\n",
    "\n",
    "hip_sp.head(5)"
   ]
  },
  {
   "cell_type": "markdown",
   "id": "addressed-fleece",
   "metadata": {},
   "source": [
    "### Changing data types of the columns"
   ]
  },
  {
   "cell_type": "code",
   "execution_count": 21,
   "id": "floral-humanity",
   "metadata": {},
   "outputs": [
    {
     "name": "stdout",
     "output_type": "stream",
     "text": [
      "<class 'pandas.core.frame.DataFrame'>\n",
      "RangeIndex: 118218 entries, 0 to 118217\n",
      "Data columns (total 11 columns):\n",
      " #   Column         Non-Null Count   Dtype  \n",
      "---  ------         --------------   -----  \n",
      " 0   Hip_No         118218 non-null  int64  \n",
      " 1   Alpha(h,m,s)   118218 non-null  object \n",
      " 2   Delta(d,m,s)   118218 non-null  object \n",
      " 3   Vmag           118217 non-null  float64\n",
      " 4   B-V            117955 non-null  float64\n",
      " 5   V-I            117955 non-null  float64\n",
      " 6   Plx(mas)       116937 non-null  float64\n",
      " 7   e_Plx(mas)     116943 non-null  float64\n",
      " 8   Var_period     2541 non-null    float64\n",
      " 9   Var_type       118218 non-null  object \n",
      " 10  Spectral_type  118218 non-null  object \n",
      "dtypes: float64(6), int64(1), object(4)\n",
      "memory usage: 9.9+ MB\n"
     ]
    }
   ],
   "source": [
    "col_list = ['Vmag', 'Plx(mas)', 'e_Plx(mas)', 'B-V', 'V-I', 'Var_period']\n",
    "\n",
    "for  col in col_list:\n",
    "    hip_sp[col] = pd.to_numeric(hip_sp[col],  errors = 'coerce')\n",
    "    \n",
    "hip_sp.info(verbose = True)"
   ]
  },
  {
   "cell_type": "markdown",
   "id": "religious-retail",
   "metadata": {},
   "source": [
    "### Calculating the absolute stellar magnitudes"
   ]
  },
  {
   "cell_type": "code",
   "execution_count": 24,
   "id": "peripheral-flood",
   "metadata": {},
   "outputs": [],
   "source": [
    "def find_absolute_mag(df):\n",
    "    invalid_values = np.seterr(invalid='ignore')\n",
    "    df['Mv'] = df['Vmag'] + 5 - 5*np.log10(1000/df['Plx(mas)']) "
   ]
  },
  {
   "cell_type": "code",
   "execution_count": 25,
   "id": "norman-azerbaijan",
   "metadata": {},
   "outputs": [
    {
     "data": {
      "text/html": [
       "<div>\n",
       "<style scoped>\n",
       "    .dataframe tbody tr th:only-of-type {\n",
       "        vertical-align: middle;\n",
       "    }\n",
       "\n",
       "    .dataframe tbody tr th {\n",
       "        vertical-align: top;\n",
       "    }\n",
       "\n",
       "    .dataframe thead th {\n",
       "        text-align: right;\n",
       "    }\n",
       "</style>\n",
       "<table border=\"1\" class=\"dataframe\">\n",
       "  <thead>\n",
       "    <tr style=\"text-align: right;\">\n",
       "      <th></th>\n",
       "      <th>Hip_No</th>\n",
       "      <th>Alpha(h,m,s)</th>\n",
       "      <th>Delta(d,m,s)</th>\n",
       "      <th>Vmag</th>\n",
       "      <th>B-V</th>\n",
       "      <th>V-I</th>\n",
       "      <th>Plx(mas)</th>\n",
       "      <th>e_Plx(mas)</th>\n",
       "      <th>Var_period</th>\n",
       "      <th>Var_type</th>\n",
       "      <th>Spectral_type</th>\n",
       "      <th>Mv</th>\n",
       "    </tr>\n",
       "  </thead>\n",
       "  <tbody>\n",
       "    <tr>\n",
       "      <th>118213</th>\n",
       "      <td>118318</td>\n",
       "      <td>23 59 51.30</td>\n",
       "      <td>+11 40 25.4</td>\n",
       "      <td>6.99</td>\n",
       "      <td>1.92</td>\n",
       "      <td>0.91</td>\n",
       "      <td>1.595</td>\n",
       "      <td>1.61</td>\n",
       "      <td>NaN</td>\n",
       "      <td>M</td>\n",
       "      <td>K2</td>\n",
       "      <td>-1.996197</td>\n",
       "    </tr>\n",
       "    <tr>\n",
       "      <th>118214</th>\n",
       "      <td>118319</td>\n",
       "      <td>23 59 53.74</td>\n",
       "      <td>-22 25 41.4</td>\n",
       "      <td>8.23</td>\n",
       "      <td>10.63</td>\n",
       "      <td>1.17</td>\n",
       "      <td>0.639</td>\n",
       "      <td>0.70</td>\n",
       "      <td>NaN</td>\n",
       "      <td>C</td>\n",
       "      <td>G2V</td>\n",
       "      <td>-2.742496</td>\n",
       "    </tr>\n",
       "    <tr>\n",
       "      <th>118215</th>\n",
       "      <td>118320</td>\n",
       "      <td>23 59 54.25</td>\n",
       "      <td>+05 57 23.9</td>\n",
       "      <td>7.59</td>\n",
       "      <td>5.00</td>\n",
       "      <td>1.01</td>\n",
       "      <td>0.999</td>\n",
       "      <td>0.98</td>\n",
       "      <td>NaN</td>\n",
       "      <td>C</td>\n",
       "      <td>K0</td>\n",
       "      <td>-2.412173</td>\n",
       "    </tr>\n",
       "    <tr>\n",
       "      <th>118216</th>\n",
       "      <td>118321</td>\n",
       "      <td>23 59 54.78</td>\n",
       "      <td>-64 22 21.3</td>\n",
       "      <td>9.20</td>\n",
       "      <td>19.22</td>\n",
       "      <td>1.00</td>\n",
       "      <td>0.698</td>\n",
       "      <td>0.75</td>\n",
       "      <td>NaN</td>\n",
       "      <td></td>\n",
       "      <td>G5V</td>\n",
       "      <td>-1.580723</td>\n",
       "    </tr>\n",
       "    <tr>\n",
       "      <th>118217</th>\n",
       "      <td>118322</td>\n",
       "      <td>23 59 54.91</td>\n",
       "      <td>-65 34 37.5</td>\n",
       "      <td>4.49</td>\n",
       "      <td>8.71</td>\n",
       "      <td>0.57</td>\n",
       "      <td>-0.075</td>\n",
       "      <td>-0.04</td>\n",
       "      <td>NaN</td>\n",
       "      <td></td>\n",
       "      <td>B9IV</td>\n",
       "      <td>NaN</td>\n",
       "    </tr>\n",
       "  </tbody>\n",
       "</table>\n",
       "</div>"
      ],
      "text/plain": [
       "        Hip_No Alpha(h,m,s) Delta(d,m,s)  Vmag    B-V   V-I  Plx(mas)  \\\n",
       "118213  118318  23 59 51.30  +11 40 25.4  6.99   1.92  0.91     1.595   \n",
       "118214  118319  23 59 53.74  -22 25 41.4  8.23  10.63  1.17     0.639   \n",
       "118215  118320  23 59 54.25  +05 57 23.9  7.59   5.00  1.01     0.999   \n",
       "118216  118321  23 59 54.78  -64 22 21.3  9.20  19.22  1.00     0.698   \n",
       "118217  118322  23 59 54.91  -65 34 37.5  4.49   8.71  0.57    -0.075   \n",
       "\n",
       "        e_Plx(mas)  Var_period Var_type Spectral_type        Mv  \n",
       "118213        1.61         NaN        M  K2           -1.996197  \n",
       "118214        0.70         NaN        C  G2V          -2.742496  \n",
       "118215        0.98         NaN        C  K0           -2.412173  \n",
       "118216        0.75         NaN           G5V          -1.580723  \n",
       "118217       -0.04         NaN           B9IV               NaN  "
      ]
     },
     "execution_count": 25,
     "metadata": {},
     "output_type": "execute_result"
    }
   ],
   "source": [
    "find_absolute_mag(hip_sp)\n",
    "hip_sp.tail()    "
   ]
  },
  {
   "cell_type": "markdown",
   "id": "based-korean",
   "metadata": {},
   "source": [
    "###  Pythonic .vs. non-pythonic code\n",
    "\n",
    "How many stars from our Hp_Sp.csv file are more luminous than the Sun, knowing that the absolute magnitude of the Sun is 4.83? To answer this question,  we need to count the number of stars from the Mv column of the hip_sp data frame. All-stars from the catalog with the absolute magnitudes, Mv, less than 4.83, are more luminous than our Sun.  "
   ]
  },
  {
   "cell_type": "code",
   "execution_count": 3,
   "id": "published-cherry",
   "metadata": {},
   "outputs": [
    {
     "name": "stdout",
     "output_type": "stream",
     "text": [
      "104597\n",
      "Wall time: 541 ms\n"
     ]
    }
   ],
   "source": [
    "%%time\n",
    "\n",
    "#Non-Pythonic Way\n",
    "\n",
    "star_list = []\n",
    "for i in range(0,len(hip_sp['Mv'])):\n",
    "    mag = hip_sp['Mv'][i]\n",
    "    if mag < 4.83:\n",
    "       star_list.append(mag)\n",
    "\n",
    "print(len(star_list))"
   ]
  },
  {
   "cell_type": "code",
   "execution_count": 4,
   "id": "sexual-program",
   "metadata": {},
   "outputs": [
    {
     "name": "stdout",
     "output_type": "stream",
     "text": [
      "104597\n",
      "Wall time: 21.7 ms\n"
     ]
    }
   ],
   "source": [
    "%%time\n",
    "\n",
    "#Pythonic Way\n",
    "\n",
    "star_list = [mag for mag in hip_sp['Mv'] if mag < 4.83]\n",
    "\n",
    "print(len(star_list))"
   ]
  },
  {
   "cell_type": "markdown",
   "id": "juvenile-meeting",
   "metadata": {},
   "source": [
    "### Examining runtime \n",
    "\n",
    "To select the most efficient code we will examine the runtime using one of the magic commands. The module timeit will time many executions for one statement. We can set the number of runs using -r option and the number of loops using -n option. On the other hand, the %%time command measures actual time to complete a command and it can be affected by any other operations in the computer. "
   ]
  },
  {
   "cell_type": "code",
   "execution_count": 5,
   "id": "important-recipe",
   "metadata": {},
   "outputs": [
    {
     "name": "stdout",
     "output_type": "stream",
     "text": [
      "12.6 ms ± 386 µs per loop (mean ± std. dev. of 7 runs, 100 loops each)\n",
      "14.6 ms ± 1.48 ms per loop (mean ± std. dev. of 2 runs, 10 loops each)\n"
     ]
    }
   ],
   "source": [
    "import timeit\n",
    "\n",
    "%timeit star_list = [mag for mag in hip_sp['Mv'] if mag < 4.83]\n",
    "\n",
    "%timeit -r2 -n10 star_list = [mag for mag in hip_sp['Mv'] if mag < 4.83]"
   ]
  },
  {
   "cell_type": "markdown",
   "id": "needed-shanghai",
   "metadata": {},
   "source": [
    "For example, we can compare times that takes to create a list by using the standard syntax [] or by using Python's built-in function list()."
   ]
  },
  {
   "cell_type": "code",
   "execution_count": 6,
   "id": "positive-outline",
   "metadata": {},
   "outputs": [
    {
     "name": "stdout",
     "output_type": "stream",
     "text": [
      "4.06 µs ± 995 ns per loop (mean ± std. dev. of 2 runs, 10 loops each)\n",
      "11.2 ms ± 518 µs per loop (mean ± std. dev. of 2 runs, 10 loops each)\n"
     ]
    }
   ],
   "source": [
    "%timeit -r2 -n10 Mv_list1 = [hip_sp['Mv']]\n",
    "\n",
    "%timeit -r2 -n10 Mv_list2 = list(hip_sp['Mv'])"
   ]
  },
  {
   "cell_type": "markdown",
   "id": "corrected-comment",
   "metadata": {},
   "source": [
    "###  List of Hipparacos numbers for different stars \n",
    "\n",
    "Let's create a list of Hip Ids and an indexed list of absolute magnitudes using Python's built-in functions."
   ]
  },
  {
   "cell_type": "code",
   "execution_count": 7,
   "id": "alleged-travel",
   "metadata": {},
   "outputs": [
    {
     "name": "stdout",
     "output_type": "stream",
     "text": [
      "118321\n",
      "Wall time: 7.98 ms\n"
     ]
    }
   ],
   "source": [
    "%%time\n",
    "hip_id_list = list(hip_sp['Hip_No'])\n",
    "\n",
    "hip_id_list1 = [* range(1, hip_id_list[-1])]\n",
    "print(len(hip_id_list1))"
   ]
  },
  {
   "cell_type": "code",
   "execution_count": 8,
   "id": "searching-provision",
   "metadata": {},
   "outputs": [
    {
     "name": "stdout",
     "output_type": "stream",
     "text": [
      "(1, 1.8450163101289387)\n",
      "Wall time: 24 ms\n"
     ]
    }
   ],
   "source": [
    "%%time\n",
    "mag_list = list(hip_sp['Mv'])\n",
    "\n",
    "indexed_list = [* enumerate(mag_list, 1)]\n",
    "print(indexed_list[0])"
   ]
  },
  {
   "cell_type": "markdown",
   "id": "industrial-recruitment",
   "metadata": {},
   "source": [
    "### Rounding values using  dataframes"
   ]
  },
  {
   "cell_type": "code",
   "execution_count": 9,
   "id": "allied-melissa",
   "metadata": {},
   "outputs": [
    {
     "name": "stdout",
     "output_type": "stream",
     "text": [
      "   Hip_No  Vmag    Mv Spectral_type\n",
      "0       1  9.10  1.85  F5          \n",
      "1       2  9.27  5.97  K3V         \n",
      "2       3  6.61 -1.15  B9          \n",
      "3       4  8.06  2.51  F0V         \n",
      "4       5  8.55  0.84  G8III       \n",
      "Wall time: 16 ms\n"
     ]
    }
   ],
   "source": [
    "%%time\n",
    "\n",
    "hip_sp2 = hip_sp.round({'Mv': 2})\n",
    "print(hip_sp2.head(5))"
   ]
  },
  {
   "cell_type": "code",
   "execution_count": 10,
   "id": "broken-acrobat",
   "metadata": {},
   "outputs": [
    {
     "name": "stdout",
     "output_type": "stream",
     "text": [
      "0    1.85\n",
      "1    5.97\n",
      "2   -1.15\n",
      "3    2.51\n",
      "4    0.84\n",
      "Name: Mv, dtype: float64\n",
      "Wall time: 7.97 ms\n"
     ]
    }
   ],
   "source": [
    "%%time\n",
    "\n",
    "Mv_list = round(hip_sp['Mv'], 2)\n",
    "print(Mv_list[0:5])"
   ]
  },
  {
   "cell_type": "markdown",
   "id": "classified-stanford",
   "metadata": {},
   "source": [
    "### Using NumPy array \n",
    "\n",
    "Using NumPy arrays is the most efficient way of applying complex calculations on a set of numbers. "
   ]
  },
  {
   "cell_type": "code",
   "execution_count": 11,
   "id": "bronze-antique",
   "metadata": {},
   "outputs": [
    {
     "name": "stdout",
     "output_type": "stream",
     "text": [
      "[ 0.45464871 -0.37840125 -0.13970775  0.49467912 -0.27201056 -0.26828646\n",
      "  0.49530368 -0.14395166 -0.37549362  0.45647263]\n",
      "Wall time: 0 ns\n"
     ]
    }
   ],
   "source": [
    "%%time\n",
    "#list of right ascension in degrees\n",
    "\n",
    "alpha_list = [*range(1,360,1)]\n",
    "alpha_np = np.array(alpha_list)\n",
    "alpha_np_c = np.cos(alpha_np)*np.sin(alpha_np)\n",
    "print(alpha_np_c[0:10])"
   ]
  },
  {
   "cell_type": "markdown",
   "id": "legislative-center",
   "metadata": {},
   "source": [
    "### Combining objects\n",
    "\n",
    "We will combine the list of stellar absolute magnitudes with the list of stellar spectral types and try to find the most efficient way of combining two objects. Using zip method is more efficient than using for loop. "
   ]
  },
  {
   "cell_type": "code",
   "execution_count": 12,
   "id": "binary-loading",
   "metadata": {},
   "outputs": [
    {
     "name": "stdout",
     "output_type": "stream",
     "text": [
      "<class 'list'>\n",
      "[(1.8450163101289387, 'F5          '), (5.972220574200591, 'K3V         '), (-1.1464684004746015, 'B9          ')]\n",
      "Wall time: 372 ms\n"
     ]
    }
   ],
   "source": [
    "%%time\n",
    "\n",
    "Mv_list = hip_sp['Mv']\n",
    "Sp_list = hip_sp['Spectral_type']\n",
    "\n",
    "star_infos = []\n",
    "for i,magnitud in enumerate(Mv_list):\n",
    "    star_infos.append((magnitud, Sp_list[i]))\n",
    "\n",
    "print(type(star_infos)) \n",
    "print(star_infos[0:3])"
   ]
  },
  {
   "cell_type": "code",
   "execution_count": 13,
   "id": "collective-julian",
   "metadata": {},
   "outputs": [
    {
     "name": "stdout",
     "output_type": "stream",
     "text": [
      "<class 'list'>\n",
      "[(1.8450163101289387, 'F5          '), (5.972220574200591, 'K3V         '), (-1.1464684004746015, 'B9          ')]\n",
      "Wall time: 24 ms\n"
     ]
    }
   ],
   "source": [
    "%%time\n",
    "\n",
    "Mv_list = hip_sp['Mv']\n",
    "Sp_list = hip_sp['Spectral_type']\n",
    "\n",
    "star_infos_zip = zip(Mv_list, Sp_list)\n",
    "star_infos_zip_list = [* star_infos_zip]\n",
    "\n",
    "print(type(star_infos_zip_list))\n",
    "print(star_infos_zip_list[0:3])"
   ]
  },
  {
   "cell_type": "markdown",
   "id": "moved-filling",
   "metadata": {},
   "source": [
    "### Counting and grouping in Python\n",
    "\n",
    "In this step, we will try to find out what is the fastest way to count how many stars belong to each spectral type. We have 113759 stars from the Hipparcos catalog. First, we will use the standard method of counting using loops, then we will count using a special Python object called Counter based on dictionary object."
   ]
  },
  {
   "cell_type": "code",
   "execution_count": 14,
   "id": "identical-difference",
   "metadata": {},
   "outputs": [
    {
     "name": "stdout",
     "output_type": "stream",
     "text": [
      "[('F5          ', 3801), ('K3V         ', 213), ('B9          ', 1499)]\n",
      "Wall time: 32 ms\n"
     ]
    }
   ],
   "source": [
    "%%time\n",
    "\n",
    "#Counting using loop\n",
    "\n",
    "Sp_list = hip_sp['Spectral_type']\n",
    "\n",
    "spectral_groups = {}\n",
    "for spectral_type in Sp_list:\n",
    "    if spectral_type not in spectral_groups:\n",
    "       spectral_groups[spectral_type] = 1\n",
    "    else:\n",
    "       spectral_groups[spectral_type] += 1 \n",
    "\n",
    "#printing first three spectral groups\n",
    "print(list(spectral_groups.items())[:3])"
   ]
  },
  {
   "cell_type": "code",
   "execution_count": 15,
   "id": "inclusive-pottery",
   "metadata": {},
   "outputs": [
    {
     "name": "stdout",
     "output_type": "stream",
     "text": [
      "[('F5          ', 3801), ('K3V         ', 213), ('B9          ', 1499)]\n",
      "[('K0          ', 8303), ('G5          ', 5892), ('A0          ', 4811)]\n",
      "Wall time: 15.8 ms\n"
     ]
    }
   ],
   "source": [
    "%%time\n",
    "\n",
    "#Counting using counter \n",
    "\n",
    "Sp_list = hip_sp['Spectral_type']\n",
    "\n",
    "from collections import Counter\n",
    "\n",
    "#create instance of counter\n",
    "counter_dict = Counter(Sp_list)\n",
    "\n",
    "#printing first three spectral groups\n",
    "print(list(counter_dict.items())[:3])\n",
    "#printing the most common spectral groups \n",
    "print(counter_dict.most_common(3))"
   ]
  },
  {
   "cell_type": "markdown",
   "id": "corporate-reservation",
   "metadata": {},
   "source": [
    "### Finding common stars between two lists\n",
    "\n",
    "What is the best way to find common objects in two lists? Python's built-in set type is much faster than the standard way of searching through two lists. Let's select stars from the Hipparcos catalog with the same spectral types. "
   ]
  },
  {
   "cell_type": "code",
   "execution_count": 16,
   "id": "second-drawing",
   "metadata": {},
   "outputs": [
    {
     "name": "stdout",
     "output_type": "stream",
     "text": [
      "1320\n",
      "Wall time: 8 ms\n"
     ]
    }
   ],
   "source": [
    "%%time\n",
    "\n",
    "list_1 = (hip_sp['Spectral_type'][:50000])\n",
    "list_2 = (hip_sp['Spectral_type'][50001:])\n",
    "\n",
    "set_1 = set(list_1)\n",
    "set_2 = set(list_2)\n",
    "\n",
    "common_stars = set_1.intersection(set_2)\n",
    "print(len(common_stars))"
   ]
  },
  {
   "cell_type": "markdown",
   "id": "intended-adelaide",
   "metadata": {},
   "source": [
    "### Finding difference and union between two lists\n",
    "\n",
    "With the two lists of stars from the previous step, we can, for example, find stars that exist only in the first list but not in the second, or in one line we can extract all possible spectral classes from the two lists without heaving to repat the common types from the two lists."
   ]
  },
  {
   "cell_type": "code",
   "execution_count": 17,
   "id": "searching-radius",
   "metadata": {},
   "outputs": [
    {
     "name": "stdout",
     "output_type": "stream",
     "text": [
      "1030\n",
      "3871\n",
      "Wall time: 0 ns\n"
     ]
    }
   ],
   "source": [
    "%%time\n",
    "\n",
    "diff_list = set_1.difference(set_2)\n",
    "print(len(diff_list))\n",
    "\n",
    "unique_list = set_1.union(set_2)\n",
    "print(len(unique_list))"
   ]
  },
  {
   "cell_type": "markdown",
   "id": "grateful-pizza",
   "metadata": {},
   "source": [
    "### Finding an element in a list\n",
    "\n",
    "What is the fastest way to search for an element in a list of 113759 objects? We will show below that if a list is of type of set we will be able to find an object faster than in an ordinary list or a tuple. "
   ]
  },
  {
   "cell_type": "code",
   "execution_count": 18,
   "id": "contrary-chase",
   "metadata": {},
   "outputs": [
    {
     "name": "stdout",
     "output_type": "stream",
     "text": [
      "<class 'list'>\n",
      "162 ns ± 4.15 ns per loop (mean ± std. dev. of 7 runs, 10000000 loops each)\n"
     ]
    }
   ],
   "source": [
    "list_1 = list(hip_sp['Spectral_type'])\n",
    " \n",
    "new_list = [i.strip(' ') for i in list_1]\n",
    "print(type(new_list))\n",
    "\n",
    "%timeit 'A2' in new_list"
   ]
  },
  {
   "cell_type": "code",
   "execution_count": 19,
   "id": "systematic-doctrine",
   "metadata": {},
   "outputs": [
    {
     "name": "stdout",
     "output_type": "stream",
     "text": [
      "<class 'tuple'>\n",
      "169 ns ± 6.69 ns per loop (mean ± std. dev. of 7 runs, 10000000 loops each)\n"
     ]
    }
   ],
   "source": [
    "new_object = tuple([i.strip(' ') for i in list_1])\n",
    "print(type(new_object))\n",
    "\n",
    "%timeit 'A2' in new_object"
   ]
  },
  {
   "cell_type": "code",
   "execution_count": 20,
   "id": "absent-withdrawal",
   "metadata": {},
   "outputs": [
    {
     "name": "stdout",
     "output_type": "stream",
     "text": [
      "<class 'set'>\n",
      "42.5 ns ± 0.849 ns per loop (mean ± std. dev. of 7 runs, 10000000 loops each)\n"
     ]
    }
   ],
   "source": [
    "new_object = set([i.strip(' ') for i in list_1])\n",
    "print(type(new_object))\n",
    "\n",
    "%timeit 'A2' in new_object"
   ]
  },
  {
   "cell_type": "markdown",
   "id": "lonely-point",
   "metadata": {},
   "source": [
    "### How to eliminate loops\n",
    "\n",
    "We will list several possible ways to eliminate loops because they are inefficient and take more lines of code than needed. For example, we can select all-stars with the same spectral type, G2V as our Sun. "
   ]
  },
  {
   "cell_type": "code",
   "execution_count": 21,
   "id": "latest-manitoba",
   "metadata": {},
   "outputs": [
    {
     "name": "stdout",
     "output_type": "stream",
     "text": [
      "List of the absolute magnitudes for Sun-type stars: [4.364230575944209, 4.375772199531408] ...\n",
      "691\n",
      "Wall time: 7.69 s\n"
     ]
    }
   ],
   "source": [
    "%%time\n",
    "#for loop approach\n",
    "\n",
    "star_list = hip_sp[['Spectral_type', 'Mv']]\n",
    "\n",
    "suntype_stars = []\n",
    "for i,j in star_list.iterrows():\n",
    "    if 'G2V' in j['Spectral_type']:\n",
    "        suntype_stars.append(j['Mv'])\n",
    "\n",
    "print('List of the absolute magnitudes for Sun-type stars:', suntype_stars[:2], '...')\n",
    "print(len(suntype_stars))  "
   ]
  },
  {
   "cell_type": "code",
   "execution_count": 22,
   "id": "scientific-credits",
   "metadata": {},
   "outputs": [
    {
     "name": "stdout",
     "output_type": "stream",
     "text": [
      "568\n",
      "The average absolute magnitude of the sun-like stars: 3.95\n",
      "Wall time: 48.8 ms\n"
     ]
    }
   ],
   "source": [
    "%%time\n",
    "#list comprehension approach\n",
    "\n",
    "from statistics import mean\n",
    "df_sp = hip_sp[['Spectral_type', 'Mv']]\n",
    "\n",
    "df_sunlike = df_sp[df_sp['Spectral_type'].str.strip() == 'G2V']\n",
    "print(len(df_sunlike))\n",
    "\n",
    "sunlike_avg = mean(df_sunlike['Mv'])\n",
    "print('The average absolute magnitude of the sun-like stars:', \n",
    "      round(sunlike_avg, 2))"
   ]
  },
  {
   "cell_type": "code",
   "execution_count": 23,
   "id": "reserved-effectiveness",
   "metadata": {},
   "outputs": [
    {
     "name": "stdout",
     "output_type": "stream",
     "text": [
      "568\n",
      "The average absolute magnitude of the sun-like stars: 3.95\n",
      "Wall time: 0 ns\n"
     ]
    }
   ],
   "source": [
    "%%time\n",
    "#NumPy approach\n",
    "\n",
    "numpy_sunlike= np.array(df_sunlike['Mv'])\n",
    "print(len(numpy_sunlike))\n",
    "\n",
    "sunlike_avg = numpy_sunlike.mean()\n",
    "print('The average absolute magnitude of the sun-like stars:', \n",
    "      round(sunlike_avg, 2))"
   ]
  },
  {
   "cell_type": "markdown",
   "id": "incomplete-refrigerator",
   "metadata": {},
   "source": [
    "### Using tuples and Python's built-in functions\n",
    "\n",
    "By combining the tuples as a data type with Python's built-in functions, we can move the calculations above the loop and therefore make the loops more efficient. "
   ]
  },
  {
   "cell_type": "code",
   "execution_count": 24,
   "id": "introductory-shower",
   "metadata": {},
   "outputs": [
    {
     "name": "stdout",
     "output_type": "stream",
     "text": [
      "[['G2V         ', 4.364230575944209], ['G2V         ', 4.375772199531408]]\n",
      "Wall time: 360 µs\n"
     ]
    }
   ],
   "source": [
    "%%time\n",
    "sp_list = df_sunlike['Spectral_type']\n",
    "mv_list = df_sunlike['Mv']\n",
    "\n",
    "result_tuple = []\n",
    "for star in zip(sp_list, mv_list):\n",
    "    result_tuple.append(star)\n",
    "    \n",
    "result = [*map(list, result_tuple)]  \n",
    "print(result[:2])"
   ]
  },
  {
   "cell_type": "markdown",
   "id": "cleared-there",
   "metadata": {},
   "source": [
    "###  Iterating over DataFrames\n",
    "\n",
    "If we want to add a new column containing the stellar distance for each of the Hipparcos stars, we can achieve this by applying the following formula: \n",
    "$$ d = 10^ {(Vmag - Mv +5)*0.2} $$\n",
    "where Mv is the absolute stellar magnitude, \n",
    "Vmag is apparent stellar magnitude and d is the distance to a star in parsecs. \n",
    "To iterate through a DataFrame, we will use different methods, but what is the most efficient one, especially useful for the large datasets? "
   ]
  },
  {
   "cell_type": "code",
   "execution_count": 25,
   "id": "loaded-leisure",
   "metadata": {},
   "outputs": [],
   "source": [
    "#Function for calculating stellar distance\n",
    "\n",
    "def calc_stellar_distance(mag_ap, mag_ab):\n",
    "    dis = 10 **((mag_ap - mag_ab + 5)*0.2)\n",
    "    return np.round(dis, 2)"
   ]
  },
  {
   "cell_type": "code",
   "execution_count": 26,
   "id": "floating-stanford",
   "metadata": {},
   "outputs": [
    {
     "name": "stdout",
     "output_type": "stream",
     "text": [
      "Number of rows and columns in data frame: (113759, 5)\n",
      "Wall time: 16.3 s\n"
     ]
    }
   ],
   "source": [
    "%%time\n",
    "\n",
    "#iterating with .iloc\n",
    "\n",
    "new_hip_1 = hip_sp.copy()\n",
    "\n",
    "distance_list = []\n",
    "\n",
    "for i in range(len(new_hip_1)):\n",
    "    row = new_hip_1.iloc[i]\n",
    "    apparent_mag = row['Vmag']\n",
    "    absolute_mag = row['Mv']\n",
    "    distance = calc_stellar_distance(apparent_mag, absolute_mag)\n",
    "    distance_list.append(distance)\n",
    "    \n",
    "new_hip_1['Distance'] = distance_list  \n",
    "print('Number of rows and columns in data frame:', new_hip_1.shape)"
   ]
  },
  {
   "cell_type": "code",
   "execution_count": 27,
   "id": "funky-wheat",
   "metadata": {},
   "outputs": [
    {
     "name": "stdout",
     "output_type": "stream",
     "text": [
      "   Hip_No  Vmag        Mv Spectral_type  Distance\n",
      "0       1  9.10  1.845016  F5              282.49\n",
      "1       2  9.27  5.972221  K3V              45.66\n",
      "2       3  6.61 -1.146468  B9              355.87\n",
      "3       4  8.06  2.506509  F0V             129.03\n",
      "4       5  8.55  0.839409  G8III           348.43\n"
     ]
    }
   ],
   "source": [
    "print(new_hip_1.head(5))"
   ]
  },
  {
   "cell_type": "code",
   "execution_count": 28,
   "id": "fluid-result",
   "metadata": {},
   "outputs": [
    {
     "name": "stdout",
     "output_type": "stream",
     "text": [
      "Number of rows and columns in data frame: (113759, 5)\n",
      "Wall time: 10.5 s\n"
     ]
    }
   ],
   "source": [
    "%%time\n",
    "\n",
    "#iterating with .iterrows\n",
    "\n",
    "new_hip_2 = hip_sp.copy()\n",
    "distance_list = []\n",
    "\n",
    "for i,row in new_hip_2.iterrows():\n",
    "    apparent_mag = row['Vmag']\n",
    "    absolute_mag = row['Mv']\n",
    "    distance = calc_stellar_distance(apparent_mag, absolute_mag)\n",
    "    distance_list.append(distance)\n",
    "    \n",
    "new_hip_2['Distance'] = distance_list  \n",
    "print('Number of rows and columns in data frame:', new_hip_2.shape)"
   ]
  },
  {
   "cell_type": "code",
   "execution_count": 29,
   "id": "packed-pharmacology",
   "metadata": {},
   "outputs": [
    {
     "name": "stdout",
     "output_type": "stream",
     "text": [
      "   Hip_No  Vmag        Mv Spectral_type  Distance\n",
      "0       1  9.10  1.845016  F5              282.49\n",
      "1       2  9.27  5.972221  K3V              45.66\n",
      "2       3  6.61 -1.146468  B9              355.87\n",
      "3       4  8.06  2.506509  F0V             129.03\n",
      "4       5  8.55  0.839409  G8III           348.43\n"
     ]
    }
   ],
   "source": [
    "print(new_hip_2.head(5))"
   ]
  },
  {
   "cell_type": "code",
   "execution_count": 30,
   "id": "laughing-nirvana",
   "metadata": {},
   "outputs": [
    {
     "name": "stdout",
     "output_type": "stream",
     "text": [
      "Number of rows and columns in data frame: (113759, 5)\n",
      "Wall time: 1.15 s\n"
     ]
    }
   ],
   "source": [
    "%%time\n",
    "\n",
    "#iterating with .itertuples\n",
    "\n",
    "new_hip_3 = hip_sp.copy()\n",
    "distance_list = []\n",
    "\n",
    "for row in new_hip_3.itertuples(name = None):\n",
    "    apparent_mag = row[2]\n",
    "    absolute_mag = row[3]\n",
    "    distance = calc_stellar_distance(apparent_mag, absolute_mag)\n",
    "    distance_list.append(distance)\n",
    "    \n",
    "new_hip_3['Distance'] = distance_list \n",
    "print('Number of rows and columns in data frame:', new_hip_3.shape)"
   ]
  },
  {
   "cell_type": "code",
   "execution_count": 31,
   "id": "statistical-consultancy",
   "metadata": {},
   "outputs": [
    {
     "name": "stdout",
     "output_type": "stream",
     "text": [
      "   Hip_No  Vmag        Mv Spectral_type  Distance\n",
      "0       1  9.10  1.845016  F5              282.49\n",
      "1       2  9.27  5.972221  K3V              45.66\n",
      "2       3  6.61 -1.146468  B9              355.87\n",
      "3       4  8.06  2.506509  F0V             129.03\n",
      "4       5  8.55  0.839409  G8III           348.43\n"
     ]
    }
   ],
   "source": [
    "print(new_hip_3.head(5))"
   ]
  },
  {
   "cell_type": "markdown",
   "id": "seasonal-encounter",
   "metadata": {},
   "source": [
    "The fastest way of iterating through a data frame is by using the .itertuples() method with the name parameter set to None. "
   ]
  },
  {
   "cell_type": "code",
   "execution_count": 32,
   "id": "empirical-nebraska",
   "metadata": {},
   "outputs": [
    {
     "name": "stdout",
     "output_type": "stream",
     "text": [
      "Number of rows and columns in data frame: (113759, 5)\n",
      "Wall time: 2.63 s\n"
     ]
    }
   ],
   "source": [
    "%%time\n",
    "\n",
    "#using pandas apply method\n",
    "\n",
    "new_hip_4 = hip_sp.copy()\n",
    "\n",
    "df = new_hip_4.apply(\n",
    "         lambda row: calc_stellar_distance(row['Vmag'], row['Mv']), axis = 1)\n",
    "    \n",
    "new_hip_4['Distance'] = df\n",
    "print('Number of rows and columns in data frame:', new_hip_4.shape)"
   ]
  },
  {
   "cell_type": "code",
   "execution_count": 33,
   "id": "nasty-mixture",
   "metadata": {},
   "outputs": [
    {
     "name": "stdout",
     "output_type": "stream",
     "text": [
      "   Hip_No  Vmag        Mv Spectral_type  Distance\n",
      "0       1  9.10  1.845016  F5              282.49\n",
      "1       2  9.27  5.972221  K3V              45.66\n",
      "2       3  6.61 -1.146468  B9              355.87\n",
      "3       4  8.06  2.506509  F0V             129.03\n",
      "4       5  8.55  0.839409  G8III           348.43\n"
     ]
    }
   ],
   "source": [
    "print(new_hip_4.head(5))"
   ]
  }
 ],
 "metadata": {
  "kernelspec": {
   "display_name": "Python 3",
   "language": "python",
   "name": "python3"
  },
  "language_info": {
   "codemirror_mode": {
    "name": "ipython",
    "version": 3
   },
   "file_extension": ".py",
   "mimetype": "text/x-python",
   "name": "python",
   "nbconvert_exporter": "python",
   "pygments_lexer": "ipython3",
   "version": "3.7.4"
  }
 },
 "nbformat": 4,
 "nbformat_minor": 5
}
